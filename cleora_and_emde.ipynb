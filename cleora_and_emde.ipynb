{
  "cells": [
    {
      "cell_type": "markdown",
      "metadata": {
        "id": "view-in-github",
        "colab_type": "text"
      },
      "source": [
        "<a href=\"https://colab.research.google.com/github/omomer16/EPFL_AMLD_2024/blob/main/cleora_and_emde.ipynb\" target=\"_parent\"><img src=\"https://colab.research.google.com/assets/colab-badge.svg\" alt=\"Open In Colab\"/></a>"
      ]
    },
    {
      "cell_type": "code",
      "execution_count": 3,
      "metadata": {
        "id": "5Yv4d6Rd5C-V",
        "outputId": "4f3db949-8657-4487-e45a-e9ae6e099ec4",
        "colab": {
          "base_uri": "https://localhost:8080/"
        }
      },
      "outputs": [
        {
          "output_type": "stream",
          "name": "stdout",
          "text": [
            "Cloning into 'predicting-user-behavior-workshop'...\n",
            "remote: Enumerating objects: 72, done.\u001b[K\n",
            "remote: Counting objects: 100% (29/29), done.\u001b[K\n",
            "remote: Compressing objects: 100% (22/22), done.\u001b[K\n",
            "remote: Total 72 (delta 15), reused 20 (delta 7), pack-reused 43\u001b[K\n",
            "Receiving objects: 100% (72/72), 27.41 MiB | 14.30 MiB/s, done.\n",
            "Resolving deltas: 100% (32/32), done.\n",
            "Updating files: 100% (12/12), done.\n",
            "/content/predicting-user-behavior-workshop\n"
          ]
        }
      ],
      "source": [
        "!git clone https://github.com/Synerise/predicting-user-behavior-workshop.git\n",
        "%cd predicting-user-behavior-workshop"
      ]
    },
    {
      "cell_type": "code",
      "execution_count": 4,
      "metadata": {
        "id": "Tthic-OJ5C-b",
        "outputId": "23626c69-2d3f-4b91-ad55-824be9e088d1",
        "colab": {
          "base_uri": "https://localhost:8080/"
        }
      },
      "outputs": [
        {
          "output_type": "stream",
          "name": "stdout",
          "text": [
            "Collecting lightning\n",
            "  Downloading lightning-2.2.1-py3-none-any.whl (2.1 MB)\n",
            "\u001b[2K     \u001b[90m━━━━━━━━━━━━━━━━━━━━━━━━━━━━━━━━━━━━━━━━\u001b[0m \u001b[32m2.1/2.1 MB\u001b[0m \u001b[31m10.8 MB/s\u001b[0m eta \u001b[36m0:00:00\u001b[0m\n",
            "\u001b[?25hRequirement already satisfied: PyYAML<8.0,>=5.4 in /usr/local/lib/python3.10/dist-packages (from lightning) (6.0.1)\n",
            "Requirement already satisfied: fsspec[http]<2025.0,>=2022.5.0 in /usr/local/lib/python3.10/dist-packages (from lightning) (2023.6.0)\n",
            "Collecting lightning-utilities<2.0,>=0.8.0 (from lightning)\n",
            "  Downloading lightning_utilities-0.11.0-py3-none-any.whl (25 kB)\n",
            "Requirement already satisfied: numpy<3.0,>=1.17.2 in /usr/local/lib/python3.10/dist-packages (from lightning) (1.25.2)\n",
            "Requirement already satisfied: packaging<25.0,>=20.0 in /usr/local/lib/python3.10/dist-packages (from lightning) (24.0)\n",
            "Requirement already satisfied: torch<4.0,>=1.13.0 in /usr/local/lib/python3.10/dist-packages (from lightning) (2.2.1+cu121)\n",
            "Collecting torchmetrics<3.0,>=0.7.0 (from lightning)\n",
            "  Downloading torchmetrics-1.3.2-py3-none-any.whl (841 kB)\n",
            "\u001b[2K     \u001b[90m━━━━━━━━━━━━━━━━━━━━━━━━━━━━━━━━━━━━━━━━\u001b[0m \u001b[32m841.5/841.5 kB\u001b[0m \u001b[31m51.9 MB/s\u001b[0m eta \u001b[36m0:00:00\u001b[0m\n",
            "\u001b[?25hRequirement already satisfied: tqdm<6.0,>=4.57.0 in /usr/local/lib/python3.10/dist-packages (from lightning) (4.66.2)\n",
            "Requirement already satisfied: typing-extensions<6.0,>=4.4.0 in /usr/local/lib/python3.10/dist-packages (from lightning) (4.10.0)\n",
            "Collecting pytorch-lightning (from lightning)\n",
            "  Downloading pytorch_lightning-2.2.1-py3-none-any.whl (801 kB)\n",
            "\u001b[2K     \u001b[90m━━━━━━━━━━━━━━━━━━━━━━━━━━━━━━━━━━━━━━━━\u001b[0m \u001b[32m801.6/801.6 kB\u001b[0m \u001b[31m48.7 MB/s\u001b[0m eta \u001b[36m0:00:00\u001b[0m\n",
            "\u001b[?25hRequirement already satisfied: requests in /usr/local/lib/python3.10/dist-packages (from fsspec[http]<2025.0,>=2022.5.0->lightning) (2.31.0)\n",
            "Requirement already satisfied: aiohttp!=4.0.0a0,!=4.0.0a1 in /usr/local/lib/python3.10/dist-packages (from fsspec[http]<2025.0,>=2022.5.0->lightning) (3.9.3)\n",
            "Requirement already satisfied: setuptools in /usr/local/lib/python3.10/dist-packages (from lightning-utilities<2.0,>=0.8.0->lightning) (67.7.2)\n",
            "Requirement already satisfied: filelock in /usr/local/lib/python3.10/dist-packages (from torch<4.0,>=1.13.0->lightning) (3.13.1)\n",
            "Requirement already satisfied: sympy in /usr/local/lib/python3.10/dist-packages (from torch<4.0,>=1.13.0->lightning) (1.12)\n",
            "Requirement already satisfied: networkx in /usr/local/lib/python3.10/dist-packages (from torch<4.0,>=1.13.0->lightning) (3.2.1)\n",
            "Requirement already satisfied: jinja2 in /usr/local/lib/python3.10/dist-packages (from torch<4.0,>=1.13.0->lightning) (3.1.3)\n",
            "Collecting nvidia-cuda-nvrtc-cu12==12.1.105 (from torch<4.0,>=1.13.0->lightning)\n",
            "  Downloading nvidia_cuda_nvrtc_cu12-12.1.105-py3-none-manylinux1_x86_64.whl (23.7 MB)\n",
            "\u001b[2K     \u001b[90m━━━━━━━━━━━━━━━━━━━━━━━━━━━━━━━━━━━━━━━━\u001b[0m \u001b[32m23.7/23.7 MB\u001b[0m \u001b[31m38.3 MB/s\u001b[0m eta \u001b[36m0:00:00\u001b[0m\n",
            "\u001b[?25hCollecting nvidia-cuda-runtime-cu12==12.1.105 (from torch<4.0,>=1.13.0->lightning)\n",
            "  Downloading nvidia_cuda_runtime_cu12-12.1.105-py3-none-manylinux1_x86_64.whl (823 kB)\n",
            "\u001b[2K     \u001b[90m━━━━━━━━━━━━━━━━━━━━━━━━━━━━━━━━━━━━━━━━\u001b[0m \u001b[32m823.6/823.6 kB\u001b[0m \u001b[31m54.3 MB/s\u001b[0m eta \u001b[36m0:00:00\u001b[0m\n",
            "\u001b[?25hCollecting nvidia-cuda-cupti-cu12==12.1.105 (from torch<4.0,>=1.13.0->lightning)\n",
            "  Downloading nvidia_cuda_cupti_cu12-12.1.105-py3-none-manylinux1_x86_64.whl (14.1 MB)\n",
            "\u001b[2K     \u001b[90m━━━━━━━━━━━━━━━━━━━━━━━━━━━━━━━━━━━━━━━━\u001b[0m \u001b[32m14.1/14.1 MB\u001b[0m \u001b[31m48.5 MB/s\u001b[0m eta \u001b[36m0:00:00\u001b[0m\n",
            "\u001b[?25hCollecting nvidia-cudnn-cu12==8.9.2.26 (from torch<4.0,>=1.13.0->lightning)\n",
            "  Downloading nvidia_cudnn_cu12-8.9.2.26-py3-none-manylinux1_x86_64.whl (731.7 MB)\n",
            "\u001b[2K     \u001b[90m━━━━━━━━━━━━━━━━━━━━━━━━━━━━━━━━━━━━━━━━\u001b[0m \u001b[32m731.7/731.7 MB\u001b[0m \u001b[31m1.7 MB/s\u001b[0m eta \u001b[36m0:00:00\u001b[0m\n",
            "\u001b[?25hCollecting nvidia-cublas-cu12==12.1.3.1 (from torch<4.0,>=1.13.0->lightning)\n",
            "  Downloading nvidia_cublas_cu12-12.1.3.1-py3-none-manylinux1_x86_64.whl (410.6 MB)\n",
            "\u001b[2K     \u001b[90m━━━━━━━━━━━━━━━━━━━━━━━━━━━━━━━━━━━━━━━━\u001b[0m \u001b[32m410.6/410.6 MB\u001b[0m \u001b[31m3.5 MB/s\u001b[0m eta \u001b[36m0:00:00\u001b[0m\n",
            "\u001b[?25hCollecting nvidia-cufft-cu12==11.0.2.54 (from torch<4.0,>=1.13.0->lightning)\n",
            "  Downloading nvidia_cufft_cu12-11.0.2.54-py3-none-manylinux1_x86_64.whl (121.6 MB)\n",
            "\u001b[2K     \u001b[90m━━━━━━━━━━━━━━━━━━━━━━━━━━━━━━━━━━━━━━━━\u001b[0m \u001b[32m121.6/121.6 MB\u001b[0m \u001b[31m8.7 MB/s\u001b[0m eta \u001b[36m0:00:00\u001b[0m\n",
            "\u001b[?25hCollecting nvidia-curand-cu12==10.3.2.106 (from torch<4.0,>=1.13.0->lightning)\n",
            "  Downloading nvidia_curand_cu12-10.3.2.106-py3-none-manylinux1_x86_64.whl (56.5 MB)\n",
            "\u001b[2K     \u001b[90m━━━━━━━━━━━━━━━━━━━━━━━━━━━━━━━━━━━━━━━━\u001b[0m \u001b[32m56.5/56.5 MB\u001b[0m \u001b[31m8.4 MB/s\u001b[0m eta \u001b[36m0:00:00\u001b[0m\n",
            "\u001b[?25hCollecting nvidia-cusolver-cu12==11.4.5.107 (from torch<4.0,>=1.13.0->lightning)\n",
            "  Downloading nvidia_cusolver_cu12-11.4.5.107-py3-none-manylinux1_x86_64.whl (124.2 MB)\n",
            "\u001b[2K     \u001b[90m━━━━━━━━━━━━━━━━━━━━━━━━━━━━━━━━━━━━━━━━\u001b[0m \u001b[32m124.2/124.2 MB\u001b[0m \u001b[31m6.8 MB/s\u001b[0m eta \u001b[36m0:00:00\u001b[0m\n",
            "\u001b[?25hCollecting nvidia-cusparse-cu12==12.1.0.106 (from torch<4.0,>=1.13.0->lightning)\n",
            "  Downloading nvidia_cusparse_cu12-12.1.0.106-py3-none-manylinux1_x86_64.whl (196.0 MB)\n",
            "\u001b[2K     \u001b[90m━━━━━━━━━━━━━━━━━━━━━━━━━━━━━━━━━━━━━━━━\u001b[0m \u001b[32m196.0/196.0 MB\u001b[0m \u001b[31m5.5 MB/s\u001b[0m eta \u001b[36m0:00:00\u001b[0m\n",
            "\u001b[?25hCollecting nvidia-nccl-cu12==2.19.3 (from torch<4.0,>=1.13.0->lightning)\n",
            "  Downloading nvidia_nccl_cu12-2.19.3-py3-none-manylinux1_x86_64.whl (166.0 MB)\n",
            "\u001b[2K     \u001b[90m━━━━━━━━━━━━━━━━━━━━━━━━━━━━━━━━━━━━━━━━\u001b[0m \u001b[32m166.0/166.0 MB\u001b[0m \u001b[31m6.0 MB/s\u001b[0m eta \u001b[36m0:00:00\u001b[0m\n",
            "\u001b[?25hCollecting nvidia-nvtx-cu12==12.1.105 (from torch<4.0,>=1.13.0->lightning)\n",
            "  Downloading nvidia_nvtx_cu12-12.1.105-py3-none-manylinux1_x86_64.whl (99 kB)\n",
            "\u001b[2K     \u001b[90m━━━━━━━━━━━━━━━━━━━━━━━━━━━━━━━━━━━━━━━━\u001b[0m \u001b[32m99.1/99.1 kB\u001b[0m \u001b[31m15.0 MB/s\u001b[0m eta \u001b[36m0:00:00\u001b[0m\n",
            "\u001b[?25hRequirement already satisfied: triton==2.2.0 in /usr/local/lib/python3.10/dist-packages (from torch<4.0,>=1.13.0->lightning) (2.2.0)\n",
            "Collecting nvidia-nvjitlink-cu12 (from nvidia-cusolver-cu12==11.4.5.107->torch<4.0,>=1.13.0->lightning)\n",
            "  Downloading nvidia_nvjitlink_cu12-12.4.99-py3-none-manylinux2014_x86_64.whl (21.1 MB)\n",
            "\u001b[2K     \u001b[90m━━━━━━━━━━━━━━━━━━━━━━━━━━━━━━━━━━━━━━━━\u001b[0m \u001b[32m21.1/21.1 MB\u001b[0m \u001b[31m29.3 MB/s\u001b[0m eta \u001b[36m0:00:00\u001b[0m\n",
            "\u001b[?25hRequirement already satisfied: aiosignal>=1.1.2 in /usr/local/lib/python3.10/dist-packages (from aiohttp!=4.0.0a0,!=4.0.0a1->fsspec[http]<2025.0,>=2022.5.0->lightning) (1.3.1)\n",
            "Requirement already satisfied: attrs>=17.3.0 in /usr/local/lib/python3.10/dist-packages (from aiohttp!=4.0.0a0,!=4.0.0a1->fsspec[http]<2025.0,>=2022.5.0->lightning) (23.2.0)\n",
            "Requirement already satisfied: frozenlist>=1.1.1 in /usr/local/lib/python3.10/dist-packages (from aiohttp!=4.0.0a0,!=4.0.0a1->fsspec[http]<2025.0,>=2022.5.0->lightning) (1.4.1)\n",
            "Requirement already satisfied: multidict<7.0,>=4.5 in /usr/local/lib/python3.10/dist-packages (from aiohttp!=4.0.0a0,!=4.0.0a1->fsspec[http]<2025.0,>=2022.5.0->lightning) (6.0.5)\n",
            "Requirement already satisfied: yarl<2.0,>=1.0 in /usr/local/lib/python3.10/dist-packages (from aiohttp!=4.0.0a0,!=4.0.0a1->fsspec[http]<2025.0,>=2022.5.0->lightning) (1.9.4)\n",
            "Requirement already satisfied: async-timeout<5.0,>=4.0 in /usr/local/lib/python3.10/dist-packages (from aiohttp!=4.0.0a0,!=4.0.0a1->fsspec[http]<2025.0,>=2022.5.0->lightning) (4.0.3)\n",
            "Requirement already satisfied: MarkupSafe>=2.0 in /usr/local/lib/python3.10/dist-packages (from jinja2->torch<4.0,>=1.13.0->lightning) (2.1.5)\n",
            "Requirement already satisfied: charset-normalizer<4,>=2 in /usr/local/lib/python3.10/dist-packages (from requests->fsspec[http]<2025.0,>=2022.5.0->lightning) (3.3.2)\n",
            "Requirement already satisfied: idna<4,>=2.5 in /usr/local/lib/python3.10/dist-packages (from requests->fsspec[http]<2025.0,>=2022.5.0->lightning) (3.6)\n",
            "Requirement already satisfied: urllib3<3,>=1.21.1 in /usr/local/lib/python3.10/dist-packages (from requests->fsspec[http]<2025.0,>=2022.5.0->lightning) (2.0.7)\n",
            "Requirement already satisfied: certifi>=2017.4.17 in /usr/local/lib/python3.10/dist-packages (from requests->fsspec[http]<2025.0,>=2022.5.0->lightning) (2024.2.2)\n",
            "Requirement already satisfied: mpmath>=0.19 in /usr/local/lib/python3.10/dist-packages (from sympy->torch<4.0,>=1.13.0->lightning) (1.3.0)\n",
            "Installing collected packages: nvidia-nvtx-cu12, nvidia-nvjitlink-cu12, nvidia-nccl-cu12, nvidia-curand-cu12, nvidia-cufft-cu12, nvidia-cuda-runtime-cu12, nvidia-cuda-nvrtc-cu12, nvidia-cuda-cupti-cu12, nvidia-cublas-cu12, lightning-utilities, nvidia-cusparse-cu12, nvidia-cudnn-cu12, nvidia-cusolver-cu12, torchmetrics, pytorch-lightning, lightning\n",
            "Successfully installed lightning-2.2.1 lightning-utilities-0.11.0 nvidia-cublas-cu12-12.1.3.1 nvidia-cuda-cupti-cu12-12.1.105 nvidia-cuda-nvrtc-cu12-12.1.105 nvidia-cuda-runtime-cu12-12.1.105 nvidia-cudnn-cu12-8.9.2.26 nvidia-cufft-cu12-11.0.2.54 nvidia-curand-cu12-10.3.2.106 nvidia-cusolver-cu12-11.4.5.107 nvidia-cusparse-cu12-12.1.0.106 nvidia-nccl-cu12-2.19.3 nvidia-nvjitlink-cu12-12.4.99 nvidia-nvtx-cu12-12.1.105 pytorch-lightning-2.2.1 torchmetrics-1.3.2\n",
            "Requirement already satisfied: torchmetrics in /usr/local/lib/python3.10/dist-packages (1.3.2)\n",
            "Requirement already satisfied: numpy>1.20.0 in /usr/local/lib/python3.10/dist-packages (from torchmetrics) (1.25.2)\n",
            "Requirement already satisfied: packaging>17.1 in /usr/local/lib/python3.10/dist-packages (from torchmetrics) (24.0)\n",
            "Requirement already satisfied: torch>=1.10.0 in /usr/local/lib/python3.10/dist-packages (from torchmetrics) (2.2.1+cu121)\n",
            "Requirement already satisfied: lightning-utilities>=0.8.0 in /usr/local/lib/python3.10/dist-packages (from torchmetrics) (0.11.0)\n",
            "Requirement already satisfied: setuptools in /usr/local/lib/python3.10/dist-packages (from lightning-utilities>=0.8.0->torchmetrics) (67.7.2)\n",
            "Requirement already satisfied: typing-extensions in /usr/local/lib/python3.10/dist-packages (from lightning-utilities>=0.8.0->torchmetrics) (4.10.0)\n",
            "Requirement already satisfied: filelock in /usr/local/lib/python3.10/dist-packages (from torch>=1.10.0->torchmetrics) (3.13.1)\n",
            "Requirement already satisfied: sympy in /usr/local/lib/python3.10/dist-packages (from torch>=1.10.0->torchmetrics) (1.12)\n",
            "Requirement already satisfied: networkx in /usr/local/lib/python3.10/dist-packages (from torch>=1.10.0->torchmetrics) (3.2.1)\n",
            "Requirement already satisfied: jinja2 in /usr/local/lib/python3.10/dist-packages (from torch>=1.10.0->torchmetrics) (3.1.3)\n",
            "Requirement already satisfied: fsspec in /usr/local/lib/python3.10/dist-packages (from torch>=1.10.0->torchmetrics) (2023.6.0)\n",
            "Requirement already satisfied: nvidia-cuda-nvrtc-cu12==12.1.105 in /usr/local/lib/python3.10/dist-packages (from torch>=1.10.0->torchmetrics) (12.1.105)\n",
            "Requirement already satisfied: nvidia-cuda-runtime-cu12==12.1.105 in /usr/local/lib/python3.10/dist-packages (from torch>=1.10.0->torchmetrics) (12.1.105)\n",
            "Requirement already satisfied: nvidia-cuda-cupti-cu12==12.1.105 in /usr/local/lib/python3.10/dist-packages (from torch>=1.10.0->torchmetrics) (12.1.105)\n",
            "Requirement already satisfied: nvidia-cudnn-cu12==8.9.2.26 in /usr/local/lib/python3.10/dist-packages (from torch>=1.10.0->torchmetrics) (8.9.2.26)\n",
            "Requirement already satisfied: nvidia-cublas-cu12==12.1.3.1 in /usr/local/lib/python3.10/dist-packages (from torch>=1.10.0->torchmetrics) (12.1.3.1)\n",
            "Requirement already satisfied: nvidia-cufft-cu12==11.0.2.54 in /usr/local/lib/python3.10/dist-packages (from torch>=1.10.0->torchmetrics) (11.0.2.54)\n",
            "Requirement already satisfied: nvidia-curand-cu12==10.3.2.106 in /usr/local/lib/python3.10/dist-packages (from torch>=1.10.0->torchmetrics) (10.3.2.106)\n",
            "Requirement already satisfied: nvidia-cusolver-cu12==11.4.5.107 in /usr/local/lib/python3.10/dist-packages (from torch>=1.10.0->torchmetrics) (11.4.5.107)\n",
            "Requirement already satisfied: nvidia-cusparse-cu12==12.1.0.106 in /usr/local/lib/python3.10/dist-packages (from torch>=1.10.0->torchmetrics) (12.1.0.106)\n",
            "Requirement already satisfied: nvidia-nccl-cu12==2.19.3 in /usr/local/lib/python3.10/dist-packages (from torch>=1.10.0->torchmetrics) (2.19.3)\n",
            "Requirement already satisfied: nvidia-nvtx-cu12==12.1.105 in /usr/local/lib/python3.10/dist-packages (from torch>=1.10.0->torchmetrics) (12.1.105)\n",
            "Requirement already satisfied: triton==2.2.0 in /usr/local/lib/python3.10/dist-packages (from torch>=1.10.0->torchmetrics) (2.2.0)\n",
            "Requirement already satisfied: nvidia-nvjitlink-cu12 in /usr/local/lib/python3.10/dist-packages (from nvidia-cusolver-cu12==11.4.5.107->torch>=1.10.0->torchmetrics) (12.4.99)\n",
            "Requirement already satisfied: MarkupSafe>=2.0 in /usr/local/lib/python3.10/dist-packages (from jinja2->torch>=1.10.0->torchmetrics) (2.1.5)\n",
            "Requirement already satisfied: mpmath>=0.19 in /usr/local/lib/python3.10/dist-packages (from sympy->torch>=1.10.0->torchmetrics) (1.3.0)\n",
            "Collecting cleora_saas_api\n",
            "  Downloading cleora_saas_api-0.1.3-py3-none-any.whl (14 kB)\n",
            "Collecting fire<0.6.0,>=0.5.0 (from cleora_saas_api)\n",
            "  Downloading fire-0.5.0.tar.gz (88 kB)\n",
            "\u001b[2K     \u001b[90m━━━━━━━━━━━━━━━━━━━━━━━━━━━━━━━━━━━━━━━━\u001b[0m \u001b[32m88.3/88.3 kB\u001b[0m \u001b[31m1.5 MB/s\u001b[0m eta \u001b[36m0:00:00\u001b[0m\n",
            "\u001b[?25h  Preparing metadata (setup.py) ... \u001b[?25l\u001b[?25hdone\n",
            "Collecting pyjwt<3.0.0,>=2.8.0 (from cleora_saas_api)\n",
            "  Downloading PyJWT-2.8.0-py3-none-any.whl (22 kB)\n",
            "Collecting pyrebase4<5.0.0,>=4.7.1 (from cleora_saas_api)\n",
            "  Downloading Pyrebase4-4.7.1-py3-none-any.whl (9.2 kB)\n",
            "Collecting urllib3<2.0,>=1.21 (from cleora_saas_api)\n",
            "  Downloading urllib3-1.26.18-py2.py3-none-any.whl (143 kB)\n",
            "\u001b[2K     \u001b[90m━━━━━━━━━━━━━━━━━━━━━━━━━━━━━━━━━━━━━━━━\u001b[0m \u001b[32m143.8/143.8 kB\u001b[0m \u001b[31m3.2 MB/s\u001b[0m eta \u001b[36m0:00:00\u001b[0m\n",
            "\u001b[?25hRequirement already satisfied: six in /usr/local/lib/python3.10/dist-packages (from fire<0.6.0,>=0.5.0->cleora_saas_api) (1.16.0)\n",
            "Requirement already satisfied: termcolor in /usr/local/lib/python3.10/dist-packages (from fire<0.6.0,>=0.5.0->cleora_saas_api) (2.4.0)\n",
            "Collecting requests-toolbelt<1.0,>=0.7.1 (from pyrebase4<5.0.0,>=4.7.1->cleora_saas_api)\n",
            "  Downloading requests_toolbelt-0.10.1-py2.py3-none-any.whl (54 kB)\n",
            "\u001b[2K     \u001b[90m━━━━━━━━━━━━━━━━━━━━━━━━━━━━━━━━━━━━━━━━\u001b[0m \u001b[32m54.5/54.5 kB\u001b[0m \u001b[31m7.4 MB/s\u001b[0m eta \u001b[36m0:00:00\u001b[0m\n",
            "\u001b[?25hCollecting requests<2.30,>=2.19.1 (from pyrebase4<5.0.0,>=4.7.1->cleora_saas_api)\n",
            "  Downloading requests-2.29.0-py3-none-any.whl (62 kB)\n",
            "\u001b[2K     \u001b[90m━━━━━━━━━━━━━━━━━━━━━━━━━━━━━━━━━━━━━━━━\u001b[0m \u001b[32m62.5/62.5 kB\u001b[0m \u001b[31m7.6 MB/s\u001b[0m eta \u001b[36m0:00:00\u001b[0m\n",
            "\u001b[?25hCollecting gcloud>=0.18.3 (from pyrebase4<5.0.0,>=4.7.1->cleora_saas_api)\n",
            "  Downloading gcloud-0.18.3.tar.gz (454 kB)\n",
            "\u001b[2K     \u001b[90m━━━━━━━━━━━━━━━━━━━━━━━━━━━━━━━━━━━━━━━━\u001b[0m \u001b[32m454.4/454.4 kB\u001b[0m \u001b[31m8.7 MB/s\u001b[0m eta \u001b[36m0:00:00\u001b[0m\n",
            "\u001b[?25h  Preparing metadata (setup.py) ... \u001b[?25l\u001b[?25hdone\n",
            "Requirement already satisfied: oauth2client>=4.1.2 in /usr/local/lib/python3.10/dist-packages (from pyrebase4<5.0.0,>=4.7.1->cleora_saas_api) (4.1.3)\n",
            "Collecting python-jwt>=2.0.1 (from pyrebase4<5.0.0,>=4.7.1->cleora_saas_api)\n",
            "  Downloading python_jwt-4.1.0-py2.py3-none-any.whl (7.1 kB)\n",
            "Collecting pycryptodome>=3.6.4 (from pyrebase4<5.0.0,>=4.7.1->cleora_saas_api)\n",
            "  Downloading pycryptodome-3.20.0-cp35-abi3-manylinux_2_17_x86_64.manylinux2014_x86_64.whl (2.1 MB)\n",
            "\u001b[2K     \u001b[90m━━━━━━━━━━━━━━━━━━━━━━━━━━━━━━━━━━━━━━━━\u001b[0m \u001b[32m2.1/2.1 MB\u001b[0m \u001b[31m29.4 MB/s\u001b[0m eta \u001b[36m0:00:00\u001b[0m\n",
            "\u001b[?25hRequirement already satisfied: httplib2>=0.9.1 in /usr/local/lib/python3.10/dist-packages (from gcloud>=0.18.3->pyrebase4<5.0.0,>=4.7.1->cleora_saas_api) (0.22.0)\n",
            "Requirement already satisfied: googleapis-common-protos in /usr/local/lib/python3.10/dist-packages (from gcloud>=0.18.3->pyrebase4<5.0.0,>=4.7.1->cleora_saas_api) (1.63.0)\n",
            "Requirement already satisfied: protobuf!=3.0.0.b2.post1,>=3.0.0b2 in /usr/local/lib/python3.10/dist-packages (from gcloud>=0.18.3->pyrebase4<5.0.0,>=4.7.1->cleora_saas_api) (3.20.3)\n",
            "Requirement already satisfied: pyasn1>=0.1.7 in /usr/local/lib/python3.10/dist-packages (from oauth2client>=4.1.2->pyrebase4<5.0.0,>=4.7.1->cleora_saas_api) (0.5.1)\n",
            "Requirement already satisfied: pyasn1-modules>=0.0.5 in /usr/local/lib/python3.10/dist-packages (from oauth2client>=4.1.2->pyrebase4<5.0.0,>=4.7.1->cleora_saas_api) (0.3.0)\n",
            "Requirement already satisfied: rsa>=3.1.4 in /usr/local/lib/python3.10/dist-packages (from oauth2client>=4.1.2->pyrebase4<5.0.0,>=4.7.1->cleora_saas_api) (4.9)\n",
            "Collecting jwcrypto>=1.4.2 (from python-jwt>=2.0.1->pyrebase4<5.0.0,>=4.7.1->cleora_saas_api)\n",
            "  Downloading jwcrypto-1.5.6-py3-none-any.whl (92 kB)\n",
            "\u001b[2K     \u001b[90m━━━━━━━━━━━━━━━━━━━━━━━━━━━━━━━━━━━━━━━━\u001b[0m \u001b[32m92.5/92.5 kB\u001b[0m \u001b[31m13.2 MB/s\u001b[0m eta \u001b[36m0:00:00\u001b[0m\n",
            "\u001b[?25hRequirement already satisfied: charset-normalizer<4,>=2 in /usr/local/lib/python3.10/dist-packages (from requests<2.30,>=2.19.1->pyrebase4<5.0.0,>=4.7.1->cleora_saas_api) (3.3.2)\n",
            "Requirement already satisfied: idna<4,>=2.5 in /usr/local/lib/python3.10/dist-packages (from requests<2.30,>=2.19.1->pyrebase4<5.0.0,>=4.7.1->cleora_saas_api) (3.6)\n",
            "Requirement already satisfied: certifi>=2017.4.17 in /usr/local/lib/python3.10/dist-packages (from requests<2.30,>=2.19.1->pyrebase4<5.0.0,>=4.7.1->cleora_saas_api) (2024.2.2)\n",
            "Requirement already satisfied: pyparsing!=3.0.0,!=3.0.1,!=3.0.2,!=3.0.3,<4,>=2.4.2 in /usr/local/lib/python3.10/dist-packages (from httplib2>=0.9.1->gcloud>=0.18.3->pyrebase4<5.0.0,>=4.7.1->cleora_saas_api) (3.1.2)\n",
            "Requirement already satisfied: cryptography>=3.4 in /usr/local/lib/python3.10/dist-packages (from jwcrypto>=1.4.2->python-jwt>=2.0.1->pyrebase4<5.0.0,>=4.7.1->cleora_saas_api) (42.0.5)\n",
            "Requirement already satisfied: typing-extensions>=4.5.0 in /usr/local/lib/python3.10/dist-packages (from jwcrypto>=1.4.2->python-jwt>=2.0.1->pyrebase4<5.0.0,>=4.7.1->cleora_saas_api) (4.10.0)\n",
            "Requirement already satisfied: cffi>=1.12 in /usr/local/lib/python3.10/dist-packages (from cryptography>=3.4->jwcrypto>=1.4.2->python-jwt>=2.0.1->pyrebase4<5.0.0,>=4.7.1->cleora_saas_api) (1.16.0)\n",
            "Requirement already satisfied: pycparser in /usr/local/lib/python3.10/dist-packages (from cffi>=1.12->cryptography>=3.4->jwcrypto>=1.4.2->python-jwt>=2.0.1->pyrebase4<5.0.0,>=4.7.1->cleora_saas_api) (2.21)\n",
            "Building wheels for collected packages: fire, gcloud\n",
            "  Building wheel for fire (setup.py) ... \u001b[?25l\u001b[?25hdone\n",
            "  Created wheel for fire: filename=fire-0.5.0-py2.py3-none-any.whl size=116934 sha256=e446e03e24c720f6d0bbbbf42880268a9fee447633b577f88b6ec63ce6d6e52d\n",
            "  Stored in directory: /root/.cache/pip/wheels/90/d4/f7/9404e5db0116bd4d43e5666eaa3e70ab53723e1e3ea40c9a95\n",
            "  Building wheel for gcloud (setup.py) ... \u001b[?25l\u001b[?25hdone\n",
            "  Created wheel for gcloud: filename=gcloud-0.18.3-py3-none-any.whl size=602928 sha256=232c14ce1d345ba11ba76bc9c967c20e14e3d23c3274c74ba928448246272eb0\n",
            "  Stored in directory: /root/.cache/pip/wheels/7c/30/88/5017af921da3a33af785f0d0fd3e944b845bc62a445a2c2f69\n",
            "Successfully built fire gcloud\n",
            "Installing collected packages: urllib3, pyjwt, pycryptodome, fire, requests, requests-toolbelt, jwcrypto, gcloud, python-jwt, pyrebase4, cleora_saas_api\n",
            "  Attempting uninstall: urllib3\n",
            "    Found existing installation: urllib3 2.0.7\n",
            "    Uninstalling urllib3-2.0.7:\n",
            "      Successfully uninstalled urllib3-2.0.7\n",
            "  Attempting uninstall: pyjwt\n",
            "    Found existing installation: PyJWT 2.3.0\n",
            "    Uninstalling PyJWT-2.3.0:\n",
            "      Successfully uninstalled PyJWT-2.3.0\n",
            "  Attempting uninstall: requests\n",
            "    Found existing installation: requests 2.31.0\n",
            "    Uninstalling requests-2.31.0:\n",
            "      Successfully uninstalled requests-2.31.0\n",
            "\u001b[31mERROR: pip's dependency resolver does not currently take into account all the packages that are installed. This behaviour is the source of the following dependency conflicts.\n",
            "google-colab 1.0.0 requires requests==2.31.0, but you have requests 2.29.0 which is incompatible.\n",
            "yfinance 0.2.37 requires requests>=2.31, but you have requests 2.29.0 which is incompatible.\u001b[0m\u001b[31m\n",
            "\u001b[0mSuccessfully installed cleora_saas_api-0.1.3 fire-0.5.0 gcloud-0.18.3 jwcrypto-1.5.6 pycryptodome-3.20.0 pyjwt-2.8.0 pyrebase4-4.7.1 python-jwt-4.1.0 requests-2.29.0 requests-toolbelt-0.10.1 urllib3-1.26.18\n"
          ]
        }
      ],
      "source": [
        "!pip install lightning\n",
        "!pip install torchmetrics\n",
        "!pip install cleora_saas_api"
      ]
    },
    {
      "cell_type": "code",
      "execution_count": 5,
      "metadata": {
        "id": "YPwLdnzS5C-b"
      },
      "outputs": [],
      "source": [
        "import os\n",
        "import numpy as np\n",
        "import pandas as pd\n",
        "import torch\n",
        "import torch.nn.functional as F\n",
        "from torch.utils.data import DataLoader, Dataset\n",
        "from torch import nn, optim, Tensor\n",
        "from torchmetrics import AveragePrecision, AUROC\n",
        "import pytorch_lightning as pl\n",
        "from pytorch_lightning.loggers import TensorBoardLogger\n",
        "\n",
        "from emde import calculate_absolute_emde_codes\n",
        "from cleora_saas_api import CLI\n"
      ]
    },
    {
      "cell_type": "markdown",
      "metadata": {
        "id": "-rgavIrq5C-c"
      },
      "source": [
        "# Constants\n",
        "First we define all constants that will be used in this notebook."
      ]
    },
    {
      "cell_type": "code",
      "execution_count": 14,
      "metadata": {
        "id": "TTeaLo4x5C-f"
      },
      "outputs": [],
      "source": [
        "DATA_DIR = \"./data/\"\n",
        "TRAIN_PD_PATH = os.path.join(DATA_DIR, \"2019-Oct_small.csv\")\n",
        "TARGETS_PATH = os.path.join(DATA_DIR,\"train_target.npy\")\n",
        "VALIDATION_TARGETS_PATH = os.path.join(DATA_DIR,\"test_target.npy\")\n",
        "USER_IDS = os.path.join(DATA_DIR, \"user_ids.npy\")\n",
        "CLEORA_INPUT_FILE = os.path.join(DATA_DIR,\"cleora_input.tsv\")\n",
        "EMBEDDINGS_NPZ = \"embeddings.npz\"\n",
        "SKETCH_DEPTH= 20\n",
        "SKETCH_WIDTH = 64\n",
        "BATCH_SIZE = 128\n",
        "LEARNING_RATE = 0.0001\n",
        "MAX_EPOCH = 1\n",
        "ACCELERATOR = \"gpu\"\n",
        "DEVICES = 1\n",
        "NUM_WORKERS = 8\n",
        "EXPERIMENT_NAME = \"experiment_with_brands\"\n",
        "CLEORA_API_TOKEN = \"AMf-vBzu2gRj3CHurpiW47XDIZRvlo8b2lzNAJIQMp3b8W9M5OSMJTn-C7aq97E20Hv6dqx4XMhi82RdCIWgxadLlffWznlV-ewqStw4HUa5SIZgH76hmhMl9P_OuFa0_PvJyj3ogtqh_0w5Id7RlD-i37fI5s0rnbmRgRomH0ZtorIvEYtd4lQGt_RCXbKiSoGKOyYBSbUEisAqqSpGC502zPN4XcNq6_0Guhu4gN7xd3QvddHqrO9ch7UcDjO43jzmLhQdldVEKzoPGhdoIVW8fh9hfsC2cSo9HSb7erMoai9GDApLucmUy0FR3y9rsG1tQeVD9lEz0EMi_OuVOayDiIMGGvN2cHjTa1-Q_fkDRaPNZHEOTpkaqIsT-262VW3Uybt3E8hs1BpbSKGAHrRZIOPuAMfpbcFXxEwZvcH-JO10S-GjpKJT2Mfdac20S-mg137uqaQ0\"\n"
      ]
    },
    {
      "cell_type": "markdown",
      "metadata": {
        "id": "JzSU0isF5C-g"
      },
      "source": [
        "\n",
        "# Calculating embeddings with Cleora\n",
        "The following function prepares input for cleora. First we load DataFrame with training data. Note that cleora works with timestamps as well. However, in our case we drop timestamps for simplicity. Finally we save the result as a tsv file, which is required input format for cleora."
      ]
    },
    {
      "cell_type": "code",
      "execution_count": 7,
      "metadata": {
        "id": "rp1D3eN95C-g",
        "outputId": "04be1637-d442-48ee-8ee9-1dab204d75b3",
        "colab": {
          "base_uri": "https://localhost:8080/",
          "height": 359
        }
      },
      "outputs": [
        {
          "output_type": "execute_result",
          "data": {
            "text/plain": [
              "                event_time    brand    user_id\n",
              "0  2019-10-01 00:02:14 UTC  samsung  543272936\n",
              "1  2019-10-01 00:04:37 UTC    apple  551377651\n",
              "2  2019-10-01 00:05:14 UTC   xiaomi  550121407\n",
              "3  2019-10-01 00:06:02 UTC   xiaomi  514591159\n",
              "4  2019-10-01 00:07:07 UTC  santeri  555332717\n",
              "5  2019-10-01 00:09:26 UTC    apple  524601178\n",
              "6  2019-10-01 00:09:33 UTC    apple  524325294\n",
              "7  2019-10-01 00:09:54 UTC    apple  551377651\n",
              "8  2019-10-01 00:10:08 UTC    apple  524325294\n",
              "9  2019-10-01 00:10:56 UTC    oasis  548691404"
            ],
            "text/html": [
              "\n",
              "  <div id=\"df-cec81b3f-384b-4aef-bb71-be2dfb1cf28d\" class=\"colab-df-container\">\n",
              "    <div>\n",
              "<style scoped>\n",
              "    .dataframe tbody tr th:only-of-type {\n",
              "        vertical-align: middle;\n",
              "    }\n",
              "\n",
              "    .dataframe tbody tr th {\n",
              "        vertical-align: top;\n",
              "    }\n",
              "\n",
              "    .dataframe thead th {\n",
              "        text-align: right;\n",
              "    }\n",
              "</style>\n",
              "<table border=\"1\" class=\"dataframe\">\n",
              "  <thead>\n",
              "    <tr style=\"text-align: right;\">\n",
              "      <th></th>\n",
              "      <th>event_time</th>\n",
              "      <th>brand</th>\n",
              "      <th>user_id</th>\n",
              "    </tr>\n",
              "  </thead>\n",
              "  <tbody>\n",
              "    <tr>\n",
              "      <th>0</th>\n",
              "      <td>2019-10-01 00:02:14 UTC</td>\n",
              "      <td>samsung</td>\n",
              "      <td>543272936</td>\n",
              "    </tr>\n",
              "    <tr>\n",
              "      <th>1</th>\n",
              "      <td>2019-10-01 00:04:37 UTC</td>\n",
              "      <td>apple</td>\n",
              "      <td>551377651</td>\n",
              "    </tr>\n",
              "    <tr>\n",
              "      <th>2</th>\n",
              "      <td>2019-10-01 00:05:14 UTC</td>\n",
              "      <td>xiaomi</td>\n",
              "      <td>550121407</td>\n",
              "    </tr>\n",
              "    <tr>\n",
              "      <th>3</th>\n",
              "      <td>2019-10-01 00:06:02 UTC</td>\n",
              "      <td>xiaomi</td>\n",
              "      <td>514591159</td>\n",
              "    </tr>\n",
              "    <tr>\n",
              "      <th>4</th>\n",
              "      <td>2019-10-01 00:07:07 UTC</td>\n",
              "      <td>santeri</td>\n",
              "      <td>555332717</td>\n",
              "    </tr>\n",
              "    <tr>\n",
              "      <th>5</th>\n",
              "      <td>2019-10-01 00:09:26 UTC</td>\n",
              "      <td>apple</td>\n",
              "      <td>524601178</td>\n",
              "    </tr>\n",
              "    <tr>\n",
              "      <th>6</th>\n",
              "      <td>2019-10-01 00:09:33 UTC</td>\n",
              "      <td>apple</td>\n",
              "      <td>524325294</td>\n",
              "    </tr>\n",
              "    <tr>\n",
              "      <th>7</th>\n",
              "      <td>2019-10-01 00:09:54 UTC</td>\n",
              "      <td>apple</td>\n",
              "      <td>551377651</td>\n",
              "    </tr>\n",
              "    <tr>\n",
              "      <th>8</th>\n",
              "      <td>2019-10-01 00:10:08 UTC</td>\n",
              "      <td>apple</td>\n",
              "      <td>524325294</td>\n",
              "    </tr>\n",
              "    <tr>\n",
              "      <th>9</th>\n",
              "      <td>2019-10-01 00:10:56 UTC</td>\n",
              "      <td>oasis</td>\n",
              "      <td>548691404</td>\n",
              "    </tr>\n",
              "  </tbody>\n",
              "</table>\n",
              "</div>\n",
              "    <div class=\"colab-df-buttons\">\n",
              "\n",
              "  <div class=\"colab-df-container\">\n",
              "    <button class=\"colab-df-convert\" onclick=\"convertToInteractive('df-cec81b3f-384b-4aef-bb71-be2dfb1cf28d')\"\n",
              "            title=\"Convert this dataframe to an interactive table.\"\n",
              "            style=\"display:none;\">\n",
              "\n",
              "  <svg xmlns=\"http://www.w3.org/2000/svg\" height=\"24px\" viewBox=\"0 -960 960 960\">\n",
              "    <path d=\"M120-120v-720h720v720H120Zm60-500h600v-160H180v160Zm220 220h160v-160H400v160Zm0 220h160v-160H400v160ZM180-400h160v-160H180v160Zm440 0h160v-160H620v160ZM180-180h160v-160H180v160Zm440 0h160v-160H620v160Z\"/>\n",
              "  </svg>\n",
              "    </button>\n",
              "\n",
              "  <style>\n",
              "    .colab-df-container {\n",
              "      display:flex;\n",
              "      gap: 12px;\n",
              "    }\n",
              "\n",
              "    .colab-df-convert {\n",
              "      background-color: #E8F0FE;\n",
              "      border: none;\n",
              "      border-radius: 50%;\n",
              "      cursor: pointer;\n",
              "      display: none;\n",
              "      fill: #1967D2;\n",
              "      height: 32px;\n",
              "      padding: 0 0 0 0;\n",
              "      width: 32px;\n",
              "    }\n",
              "\n",
              "    .colab-df-convert:hover {\n",
              "      background-color: #E2EBFA;\n",
              "      box-shadow: 0px 1px 2px rgba(60, 64, 67, 0.3), 0px 1px 3px 1px rgba(60, 64, 67, 0.15);\n",
              "      fill: #174EA6;\n",
              "    }\n",
              "\n",
              "    .colab-df-buttons div {\n",
              "      margin-bottom: 4px;\n",
              "    }\n",
              "\n",
              "    [theme=dark] .colab-df-convert {\n",
              "      background-color: #3B4455;\n",
              "      fill: #D2E3FC;\n",
              "    }\n",
              "\n",
              "    [theme=dark] .colab-df-convert:hover {\n",
              "      background-color: #434B5C;\n",
              "      box-shadow: 0px 1px 3px 1px rgba(0, 0, 0, 0.15);\n",
              "      filter: drop-shadow(0px 1px 2px rgba(0, 0, 0, 0.3));\n",
              "      fill: #FFFFFF;\n",
              "    }\n",
              "  </style>\n",
              "\n",
              "    <script>\n",
              "      const buttonEl =\n",
              "        document.querySelector('#df-cec81b3f-384b-4aef-bb71-be2dfb1cf28d button.colab-df-convert');\n",
              "      buttonEl.style.display =\n",
              "        google.colab.kernel.accessAllowed ? 'block' : 'none';\n",
              "\n",
              "      async function convertToInteractive(key) {\n",
              "        const element = document.querySelector('#df-cec81b3f-384b-4aef-bb71-be2dfb1cf28d');\n",
              "        const dataTable =\n",
              "          await google.colab.kernel.invokeFunction('convertToInteractive',\n",
              "                                                    [key], {});\n",
              "        if (!dataTable) return;\n",
              "\n",
              "        const docLinkHtml = 'Like what you see? Visit the ' +\n",
              "          '<a target=\"_blank\" href=https://colab.research.google.com/notebooks/data_table.ipynb>data table notebook</a>'\n",
              "          + ' to learn more about interactive tables.';\n",
              "        element.innerHTML = '';\n",
              "        dataTable['output_type'] = 'display_data';\n",
              "        await google.colab.output.renderOutput(dataTable, element);\n",
              "        const docLink = document.createElement('div');\n",
              "        docLink.innerHTML = docLinkHtml;\n",
              "        element.appendChild(docLink);\n",
              "      }\n",
              "    </script>\n",
              "  </div>\n",
              "\n",
              "\n",
              "<div id=\"df-86a0fc35-995f-4487-a1d0-3aa8c55d2943\">\n",
              "  <button class=\"colab-df-quickchart\" onclick=\"quickchart('df-86a0fc35-995f-4487-a1d0-3aa8c55d2943')\"\n",
              "            title=\"Suggest charts\"\n",
              "            style=\"display:none;\">\n",
              "\n",
              "<svg xmlns=\"http://www.w3.org/2000/svg\" height=\"24px\"viewBox=\"0 0 24 24\"\n",
              "     width=\"24px\">\n",
              "    <g>\n",
              "        <path d=\"M19 3H5c-1.1 0-2 .9-2 2v14c0 1.1.9 2 2 2h14c1.1 0 2-.9 2-2V5c0-1.1-.9-2-2-2zM9 17H7v-7h2v7zm4 0h-2V7h2v10zm4 0h-2v-4h2v4z\"/>\n",
              "    </g>\n",
              "</svg>\n",
              "  </button>\n",
              "\n",
              "<style>\n",
              "  .colab-df-quickchart {\n",
              "      --bg-color: #E8F0FE;\n",
              "      --fill-color: #1967D2;\n",
              "      --hover-bg-color: #E2EBFA;\n",
              "      --hover-fill-color: #174EA6;\n",
              "      --disabled-fill-color: #AAA;\n",
              "      --disabled-bg-color: #DDD;\n",
              "  }\n",
              "\n",
              "  [theme=dark] .colab-df-quickchart {\n",
              "      --bg-color: #3B4455;\n",
              "      --fill-color: #D2E3FC;\n",
              "      --hover-bg-color: #434B5C;\n",
              "      --hover-fill-color: #FFFFFF;\n",
              "      --disabled-bg-color: #3B4455;\n",
              "      --disabled-fill-color: #666;\n",
              "  }\n",
              "\n",
              "  .colab-df-quickchart {\n",
              "    background-color: var(--bg-color);\n",
              "    border: none;\n",
              "    border-radius: 50%;\n",
              "    cursor: pointer;\n",
              "    display: none;\n",
              "    fill: var(--fill-color);\n",
              "    height: 32px;\n",
              "    padding: 0;\n",
              "    width: 32px;\n",
              "  }\n",
              "\n",
              "  .colab-df-quickchart:hover {\n",
              "    background-color: var(--hover-bg-color);\n",
              "    box-shadow: 0 1px 2px rgba(60, 64, 67, 0.3), 0 1px 3px 1px rgba(60, 64, 67, 0.15);\n",
              "    fill: var(--button-hover-fill-color);\n",
              "  }\n",
              "\n",
              "  .colab-df-quickchart-complete:disabled,\n",
              "  .colab-df-quickchart-complete:disabled:hover {\n",
              "    background-color: var(--disabled-bg-color);\n",
              "    fill: var(--disabled-fill-color);\n",
              "    box-shadow: none;\n",
              "  }\n",
              "\n",
              "  .colab-df-spinner {\n",
              "    border: 2px solid var(--fill-color);\n",
              "    border-color: transparent;\n",
              "    border-bottom-color: var(--fill-color);\n",
              "    animation:\n",
              "      spin 1s steps(1) infinite;\n",
              "  }\n",
              "\n",
              "  @keyframes spin {\n",
              "    0% {\n",
              "      border-color: transparent;\n",
              "      border-bottom-color: var(--fill-color);\n",
              "      border-left-color: var(--fill-color);\n",
              "    }\n",
              "    20% {\n",
              "      border-color: transparent;\n",
              "      border-left-color: var(--fill-color);\n",
              "      border-top-color: var(--fill-color);\n",
              "    }\n",
              "    30% {\n",
              "      border-color: transparent;\n",
              "      border-left-color: var(--fill-color);\n",
              "      border-top-color: var(--fill-color);\n",
              "      border-right-color: var(--fill-color);\n",
              "    }\n",
              "    40% {\n",
              "      border-color: transparent;\n",
              "      border-right-color: var(--fill-color);\n",
              "      border-top-color: var(--fill-color);\n",
              "    }\n",
              "    60% {\n",
              "      border-color: transparent;\n",
              "      border-right-color: var(--fill-color);\n",
              "    }\n",
              "    80% {\n",
              "      border-color: transparent;\n",
              "      border-right-color: var(--fill-color);\n",
              "      border-bottom-color: var(--fill-color);\n",
              "    }\n",
              "    90% {\n",
              "      border-color: transparent;\n",
              "      border-bottom-color: var(--fill-color);\n",
              "    }\n",
              "  }\n",
              "</style>\n",
              "\n",
              "  <script>\n",
              "    async function quickchart(key) {\n",
              "      const quickchartButtonEl =\n",
              "        document.querySelector('#' + key + ' button');\n",
              "      quickchartButtonEl.disabled = true;  // To prevent multiple clicks.\n",
              "      quickchartButtonEl.classList.add('colab-df-spinner');\n",
              "      try {\n",
              "        const charts = await google.colab.kernel.invokeFunction(\n",
              "            'suggestCharts', [key], {});\n",
              "      } catch (error) {\n",
              "        console.error('Error during call to suggestCharts:', error);\n",
              "      }\n",
              "      quickchartButtonEl.classList.remove('colab-df-spinner');\n",
              "      quickchartButtonEl.classList.add('colab-df-quickchart-complete');\n",
              "    }\n",
              "    (() => {\n",
              "      let quickchartButtonEl =\n",
              "        document.querySelector('#df-86a0fc35-995f-4487-a1d0-3aa8c55d2943 button');\n",
              "      quickchartButtonEl.style.display =\n",
              "        google.colab.kernel.accessAllowed ? 'block' : 'none';\n",
              "    })();\n",
              "  </script>\n",
              "</div>\n",
              "    </div>\n",
              "  </div>\n"
            ],
            "application/vnd.google.colaboratory.intrinsic+json": {
              "type": "dataframe",
              "variable_name": "train_df"
            }
          },
          "metadata": {},
          "execution_count": 7
        }
      ],
      "source": [
        "train_df = pd.read_csv(TRAIN_PD_PATH)\n",
        "train_df.head(10)"
      ]
    },
    {
      "cell_type": "code",
      "execution_count": 8,
      "metadata": {
        "id": "Yd8S1bIK5C-h"
      },
      "outputs": [],
      "source": [
        "def prepare_cleora_input_file():\n",
        "    train_df = pd.read_csv(TRAIN_PD_PATH)\n",
        "    train_df.drop(\"event_time\", axis=1, inplace=True)\n",
        "    train_df = train_df[[\"user_id\", \"brand\"]]\n",
        "    # train_df[\"event_time\"] = pd.to_datetime(train_df[\"event_time\"])\n",
        "    with open(CLEORA_INPUT_FILE, \"w\") as tsv_file:\n",
        "        train_df.to_csv(tsv_file, sep=\"\\t\", header=True, index=False)"
      ]
    },
    {
      "cell_type": "code",
      "execution_count": 12,
      "metadata": {
        "id": "-9MfJJ-85C-h"
      },
      "outputs": [],
      "source": [
        "prepare_cleora_input_file()"
      ]
    },
    {
      "cell_type": "code",
      "execution_count": 9,
      "metadata": {
        "id": "L8p-kgVO5C-i",
        "outputId": "e2be062d-b42d-4ca9-dd15-249095f70d2b",
        "colab": {
          "base_uri": "https://localhost:8080/"
        }
      },
      "outputs": [
        {
          "output_type": "stream",
          "name": "stdout",
          "text": [
            "logged in successfully\n"
          ]
        }
      ],
      "source": [
        "cleora = CLI()\n",
        "cleora.login(CLEORA_API_TOKEN)"
      ]
    },
    {
      "cell_type": "code",
      "execution_count": 13,
      "metadata": {
        "id": "afAdjDs_5C-i",
        "outputId": "2c70c070-7c56-4f98-c567-d523aaca3856",
        "colab": {
          "base_uri": "https://localhost:8080/",
          "height": 265
        }
      },
      "outputs": [
        {
          "output_type": "stream",
          "name": "stdout",
          "text": [
            "-- Start --\n"
          ]
        },
        {
          "output_type": "error",
          "ename": "Exception",
          "evalue": "Provided input_path do not exist",
          "traceback": [
            "\u001b[0;31m---------------------------------------------------------------------------\u001b[0m",
            "\u001b[0;31mException\u001b[0m                                 Traceback (most recent call last)",
            "\u001b[0;32m<ipython-input-13-9d65e6b73146>\u001b[0m in \u001b[0;36m<cell line: 1>\u001b[0;34m()\u001b[0m\n\u001b[0;32m----> 1\u001b[0;31m \u001b[0mcleora\u001b[0m\u001b[0;34m.\u001b[0m\u001b[0mrun\u001b[0m\u001b[0;34m(\u001b[0m\u001b[0;36m256\u001b[0m\u001b[0;34m,\u001b[0m \u001b[0;36m3\u001b[0m\u001b[0;34m,\u001b[0m \u001b[0minput_path\u001b[0m\u001b[0;34m=\u001b[0m\u001b[0mos\u001b[0m\u001b[0;34m.\u001b[0m\u001b[0mpath\u001b[0m\u001b[0;34m.\u001b[0m\u001b[0mjoin\u001b[0m\u001b[0;34m(\u001b[0m\u001b[0mDATA_DIR\u001b[0m\u001b[0;34m,\u001b[0m \u001b[0;34m\"cleora_input.tsv\"\u001b[0m\u001b[0;34m)\u001b[0m\u001b[0;34m,\u001b[0m \u001b[0mrun_name\u001b[0m\u001b[0;34m=\u001b[0m\u001b[0;34m\"colab_clustering\"\u001b[0m\u001b[0;34m)\u001b[0m\u001b[0;34m\u001b[0m\u001b[0;34m\u001b[0m\u001b[0m\n\u001b[0m",
            "\u001b[0;32m/usr/local/lib/python3.10/dist-packages/cleora_saas_api/cli.py\u001b[0m in \u001b[0;36mrun\u001b[0;34m(self, dimension, iterations, input_path, input_from_runs_by_run_name, input_from_runs_by_run_id, input_from_runs_by_input_name, run_name, initialization_path, output_path, output_file_name)\u001b[0m\n\u001b[1;32m     81\u001b[0m         }\n\u001b[1;32m     82\u001b[0m \u001b[0;34m\u001b[0m\u001b[0m\n\u001b[0;32m---> 83\u001b[0;31m         input_file_details = create_input_details(\n\u001b[0m\u001b[1;32m     84\u001b[0m             \u001b[0minput_path\u001b[0m\u001b[0;34m=\u001b[0m\u001b[0minput_path\u001b[0m\u001b[0;34m,\u001b[0m\u001b[0;34m\u001b[0m\u001b[0;34m\u001b[0m\u001b[0m\n\u001b[1;32m     85\u001b[0m             \u001b[0minput_from_runs_by_run_name\u001b[0m\u001b[0;34m=\u001b[0m\u001b[0minput_from_runs_by_run_name\u001b[0m\u001b[0;34m,\u001b[0m\u001b[0;34m\u001b[0m\u001b[0;34m\u001b[0m\u001b[0m\n",
            "\u001b[0;32m/usr/local/lib/python3.10/dist-packages/cleora_saas_api/input_details/create_input_details.py\u001b[0m in \u001b[0;36mcreate_input_details\u001b[0;34m(input_path, input_from_runs_by_run_id, input_from_runs_by_run_name, input_from_runs_by_input_name)\u001b[0m\n\u001b[1;32m     22\u001b[0m ) -> InputFileDetails:\n\u001b[1;32m     23\u001b[0m     \u001b[0;32mif\u001b[0m \u001b[0minput_path\u001b[0m \u001b[0;34m!=\u001b[0m \u001b[0;32mNone\u001b[0m\u001b[0;34m:\u001b[0m\u001b[0;34m\u001b[0m\u001b[0;34m\u001b[0m\u001b[0m\n\u001b[0;32m---> 24\u001b[0;31m         \u001b[0;32mreturn\u001b[0m \u001b[0mgenerate_input_from_local\u001b[0m\u001b[0;34m(\u001b[0m\u001b[0minput_path\u001b[0m\u001b[0;34m=\u001b[0m\u001b[0minput_path\u001b[0m\u001b[0;34m)\u001b[0m\u001b[0;34m\u001b[0m\u001b[0;34m\u001b[0m\u001b[0m\n\u001b[0m\u001b[1;32m     25\u001b[0m     \u001b[0;32mif\u001b[0m \u001b[0minput_from_runs_by_run_id\u001b[0m \u001b[0;34m!=\u001b[0m \u001b[0;32mNone\u001b[0m\u001b[0;34m:\u001b[0m\u001b[0;34m\u001b[0m\u001b[0;34m\u001b[0m\u001b[0m\n\u001b[1;32m     26\u001b[0m         \u001b[0;32mreturn\u001b[0m \u001b[0mgenerete_input_from_run_by_id\u001b[0m\u001b[0;34m(\u001b[0m\u001b[0minput_from_runs_by_run_id\u001b[0m\u001b[0;34m)\u001b[0m\u001b[0;34m\u001b[0m\u001b[0;34m\u001b[0m\u001b[0m\n",
            "\u001b[0;32m/usr/local/lib/python3.10/dist-packages/cleora_saas_api/input_details/generate_input_from_local.py\u001b[0m in \u001b[0;36mgenerate_input_from_local\u001b[0;34m(input_path)\u001b[0m\n\u001b[1;32m     26\u001b[0m         \u001b[0;32mreturn\u001b[0m \u001b[0minput_file_details\u001b[0m\u001b[0;34m\u001b[0m\u001b[0;34m\u001b[0m\u001b[0m\n\u001b[1;32m     27\u001b[0m     \u001b[0;32melse\u001b[0m\u001b[0;34m:\u001b[0m\u001b[0;34m\u001b[0m\u001b[0;34m\u001b[0m\u001b[0m\n\u001b[0;32m---> 28\u001b[0;31m         \u001b[0;32mraise\u001b[0m \u001b[0mException\u001b[0m\u001b[0;34m(\u001b[0m\u001b[0;34m\"Provided input_path do not exist\"\u001b[0m\u001b[0;34m)\u001b[0m\u001b[0;34m\u001b[0m\u001b[0;34m\u001b[0m\u001b[0m\n\u001b[0m",
            "\u001b[0;31mException\u001b[0m: Provided input_path do not exist"
          ]
        }
      ],
      "source": [
        "\n",
        "cleora.run(256, 3, input_path=os.path.join(DATA_DIR, \"cleora_input.tsv\"), run_name=\"colab_clustering\")"
      ]
    },
    {
      "cell_type": "markdown",
      "metadata": {
        "id": "0DdL-2bM5C-j"
      },
      "source": [
        "# Exercise 1\n",
        "\n",
        "Instead of using 3 iterations with dimension 256 set the number of iterations to 4 and dimension to 128."
      ]
    },
    {
      "cell_type": "code",
      "execution_count": 15,
      "metadata": {
        "id": "ImXM6OsP5C-j",
        "outputId": "ab4c8304-16d9-4f6a-9c4d-b0e9339940d8",
        "colab": {
          "base_uri": "https://localhost:8080/"
        }
      },
      "outputs": [
        {
          "output_type": "stream",
          "name": "stdout",
          "text": [
            "-- Start --\n",
            "-- Config to trigger run prepared --\n",
            "-- Run started --\n",
            "-- Logs: --\n",
            "Downloading input file.\n",
            "Number of rows in original data: 1592254\n",
            "Initializing Cleora.\n",
            "Iteration 1/4 done\n",
            "Iteration 2/4 done\n",
            "Iteration 3/4 done\n",
            "Iteration 4/4 done\n",
            "-- Result download started --\n",
            "-- Result download finished --\n"
          ]
        }
      ],
      "source": [
        "# @title Solution\n",
        "\n",
        "cleora.run(128, 4, input_path=os.path.join(DATA_DIR, \"cleora_input.tsv\"), run_name=\"colab_clustering\")"
      ]
    },
    {
      "cell_type": "markdown",
      "metadata": {
        "id": "uuAJbPD35C-j"
      },
      "source": [
        "The following function is used to load embeddings."
      ]
    },
    {
      "cell_type": "code",
      "execution_count": 16,
      "metadata": {
        "id": "9wk5rY9P5C-k"
      },
      "outputs": [],
      "source": [
        "def load_embeddings(embeddings_path: str):\n",
        "    embeddings = np.load(embeddings_path)\n",
        "    return embeddings[\"entity_id\"], embeddings[\"vectors\"]"
      ]
    },
    {
      "cell_type": "markdown",
      "metadata": {
        "id": "gcPsEzpw5C-k"
      },
      "source": [
        "We explain now the output of cleora.ai app."
      ]
    },
    {
      "cell_type": "code",
      "execution_count": 17,
      "metadata": {
        "id": "D2BENXUQ5C-l",
        "outputId": "14dbd738-7c62-4e38-9f39-e54b985bc791",
        "colab": {
          "base_uri": "https://localhost:8080/"
        }
      },
      "outputs": [
        {
          "output_type": "stream",
          "name": "stdout",
          "text": [
            "embeddings shape: (2012, 128), embeddings dtype: float32\n",
            "brands_ids shape: (2012,)\n"
          ]
        }
      ],
      "source": [
        "brands_ids, embeddings = load_embeddings(embeddings_path=EMBEDDINGS_NPZ)\n",
        "print(f\"embeddings shape: {embeddings.shape}, embeddings dtype: {embeddings.dtype}\")\n",
        "print(f\"brands_ids shape: {brands_ids.shape}\")"
      ]
    },
    {
      "cell_type": "code",
      "execution_count": 18,
      "metadata": {
        "id": "1Tf25wjf5C-l",
        "outputId": "f65ee540-f9eb-473e-f358-43c78743d2cf",
        "colab": {
          "base_uri": "https://localhost:8080/"
        }
      },
      "outputs": [
        {
          "output_type": "execute_result",
          "data": {
            "text/plain": [
              "array(['ballu', 'marcomen', 'marmiton', 'specialized', 'doona',\n",
              "       'prestige', 'besty', 'creed', 'sho-me', 'kapous'], dtype='<U28')"
            ]
          },
          "metadata": {},
          "execution_count": 18
        }
      ],
      "source": [
        "brands_ids[:10]"
      ]
    },
    {
      "cell_type": "markdown",
      "metadata": {
        "id": "vKMDI1c45C-l"
      },
      "source": [
        "Let us find brand which corresponds to some index and then print its embedding."
      ]
    },
    {
      "cell_type": "code",
      "execution_count": 19,
      "metadata": {
        "id": "LsQwJWGk5C-m",
        "outputId": "e97bbd19-063c-4c6e-87a5-c8487bd1a0a9",
        "colab": {
          "base_uri": "https://localhost:8080/",
          "height": 35
        }
      },
      "outputs": [
        {
          "output_type": "execute_result",
          "data": {
            "text/plain": [
              "'marmiton'"
            ],
            "application/vnd.google.colaboratory.intrinsic+json": {
              "type": "string"
            }
          },
          "metadata": {},
          "execution_count": 19
        }
      ],
      "source": [
        "idx = 2\n",
        "brands_ids[idx]"
      ]
    },
    {
      "cell_type": "code",
      "execution_count": 20,
      "metadata": {
        "id": "F0Ul9okw5C-m",
        "outputId": "c7f92c00-99cc-41c5-b4a0-7cab835cd568",
        "colab": {
          "base_uri": "https://localhost:8080/"
        }
      },
      "outputs": [
        {
          "output_type": "execute_result",
          "data": {
            "text/plain": [
              "array([ 1.0230306 ,  1.9514207 ,  0.24575491, -0.9504516 ,  1.4293667 ,\n",
              "       -1.6212693 , -1.7155627 ,  2.0747602 , -0.9816355 ,  0.9636677 ,\n",
              "       -0.6516863 , -0.6538    ,  0.5812629 , -1.0369552 , -0.6494597 ,\n",
              "       -2.378841  , -0.4666721 , -1.4923645 , -0.67555815,  0.9322502 ,\n",
              "        0.04595158,  0.45137691,  1.2068661 ,  1.0692046 , -0.16219157,\n",
              "       -1.5978843 ,  0.9527491 ,  0.6328959 , -0.26497874, -1.2235662 ,\n",
              "       -1.1258589 ,  0.3093083 ,  1.5253558 ,  0.1168129 , -0.40584928,\n",
              "        0.53664815,  1.6411399 , -0.7492391 , -0.71723795, -0.33115712,\n",
              "       -0.01526039,  0.9630989 , -1.7954491 , -0.8545243 , -0.19607781,\n",
              "        1.2980661 , -0.4702821 ,  1.5850583 , -0.34788403,  0.4469458 ,\n",
              "        0.37845707,  1.524986  ,  1.3873322 ,  1.8265886 ,  0.7130445 ,\n",
              "       -0.6066848 , -0.23600581,  0.5601566 ,  0.46953318, -0.40649077,\n",
              "       -0.8146219 , -0.36442253,  0.9135999 , -1.2652913 ,  2.3965256 ,\n",
              "        1.3300005 , -1.2466861 ,  0.31673935, -0.5854638 , -0.2714425 ,\n",
              "       -1.0000651 , -1.8165895 , -0.86919206,  0.49463862, -0.68720627,\n",
              "        0.57231265,  0.04007715,  0.12434003, -0.40947738,  1.0896513 ,\n",
              "        0.12472287,  1.2399942 , -0.31178066, -0.25751275,  0.82352686,\n",
              "       -0.21129754, -0.8859862 , -0.07865969,  1.5079855 , -1.5010657 ,\n",
              "       -0.5556676 ,  0.7922654 , -1.4756706 ,  1.3831862 , -1.6046377 ,\n",
              "       -0.71685505,  0.3169276 ,  0.3304639 ,  1.5847639 ,  0.45793334,\n",
              "       -0.75334716, -0.1054078 ,  0.05667097, -0.83424944,  0.52204394,\n",
              "       -1.1086428 ,  0.37210813,  0.6388241 , -1.6745495 , -1.0620663 ,\n",
              "       -0.8265372 , -1.2412968 ,  0.13873565, -0.20447157,  0.1200029 ,\n",
              "       -0.3925756 ,  0.551828  ,  1.3930693 ,  0.60530174,  0.19802783,\n",
              "        1.7455478 , -0.722788  ,  0.64114136,  1.1383188 , -0.26512158,\n",
              "       -1.688059  , -0.9020362 ,  0.68725276], dtype=float32)"
            ]
          },
          "metadata": {},
          "execution_count": 20
        }
      ],
      "source": [
        "embeddings[idx]"
      ]
    },
    {
      "cell_type": "markdown",
      "metadata": {
        "id": "ZEaSjg1h5C-n"
      },
      "source": [
        "# Implementing Dataset class\n",
        "\n",
        "We explain here some details related to our implementation of Dataset class."
      ]
    },
    {
      "cell_type": "markdown",
      "metadata": {
        "id": "H64p7boG5C-n"
      },
      "source": [
        "First we investigate the contents of training DataFrame."
      ]
    },
    {
      "cell_type": "code",
      "execution_count": 21,
      "metadata": {
        "id": "RQvEHW6_5C-n",
        "outputId": "4cac51db-1ac8-49a3-c663-3c8c64ae59f9",
        "colab": {
          "base_uri": "https://localhost:8080/",
          "height": 359
        }
      },
      "outputs": [
        {
          "output_type": "execute_result",
          "data": {
            "text/plain": [
              "                event_time    brand    user_id\n",
              "0  2019-10-01 00:02:14 UTC  samsung  543272936\n",
              "1  2019-10-01 00:04:37 UTC    apple  551377651\n",
              "2  2019-10-01 00:05:14 UTC   xiaomi  550121407\n",
              "3  2019-10-01 00:06:02 UTC   xiaomi  514591159\n",
              "4  2019-10-01 00:07:07 UTC  santeri  555332717\n",
              "5  2019-10-01 00:09:26 UTC    apple  524601178\n",
              "6  2019-10-01 00:09:33 UTC    apple  524325294\n",
              "7  2019-10-01 00:09:54 UTC    apple  551377651\n",
              "8  2019-10-01 00:10:08 UTC    apple  524325294\n",
              "9  2019-10-01 00:10:56 UTC    oasis  548691404"
            ],
            "text/html": [
              "\n",
              "  <div id=\"df-d6fb13a6-a804-438a-82f5-25a466d2f055\" class=\"colab-df-container\">\n",
              "    <div>\n",
              "<style scoped>\n",
              "    .dataframe tbody tr th:only-of-type {\n",
              "        vertical-align: middle;\n",
              "    }\n",
              "\n",
              "    .dataframe tbody tr th {\n",
              "        vertical-align: top;\n",
              "    }\n",
              "\n",
              "    .dataframe thead th {\n",
              "        text-align: right;\n",
              "    }\n",
              "</style>\n",
              "<table border=\"1\" class=\"dataframe\">\n",
              "  <thead>\n",
              "    <tr style=\"text-align: right;\">\n",
              "      <th></th>\n",
              "      <th>event_time</th>\n",
              "      <th>brand</th>\n",
              "      <th>user_id</th>\n",
              "    </tr>\n",
              "  </thead>\n",
              "  <tbody>\n",
              "    <tr>\n",
              "      <th>0</th>\n",
              "      <td>2019-10-01 00:02:14 UTC</td>\n",
              "      <td>samsung</td>\n",
              "      <td>543272936</td>\n",
              "    </tr>\n",
              "    <tr>\n",
              "      <th>1</th>\n",
              "      <td>2019-10-01 00:04:37 UTC</td>\n",
              "      <td>apple</td>\n",
              "      <td>551377651</td>\n",
              "    </tr>\n",
              "    <tr>\n",
              "      <th>2</th>\n",
              "      <td>2019-10-01 00:05:14 UTC</td>\n",
              "      <td>xiaomi</td>\n",
              "      <td>550121407</td>\n",
              "    </tr>\n",
              "    <tr>\n",
              "      <th>3</th>\n",
              "      <td>2019-10-01 00:06:02 UTC</td>\n",
              "      <td>xiaomi</td>\n",
              "      <td>514591159</td>\n",
              "    </tr>\n",
              "    <tr>\n",
              "      <th>4</th>\n",
              "      <td>2019-10-01 00:07:07 UTC</td>\n",
              "      <td>santeri</td>\n",
              "      <td>555332717</td>\n",
              "    </tr>\n",
              "    <tr>\n",
              "      <th>5</th>\n",
              "      <td>2019-10-01 00:09:26 UTC</td>\n",
              "      <td>apple</td>\n",
              "      <td>524601178</td>\n",
              "    </tr>\n",
              "    <tr>\n",
              "      <th>6</th>\n",
              "      <td>2019-10-01 00:09:33 UTC</td>\n",
              "      <td>apple</td>\n",
              "      <td>524325294</td>\n",
              "    </tr>\n",
              "    <tr>\n",
              "      <th>7</th>\n",
              "      <td>2019-10-01 00:09:54 UTC</td>\n",
              "      <td>apple</td>\n",
              "      <td>551377651</td>\n",
              "    </tr>\n",
              "    <tr>\n",
              "      <th>8</th>\n",
              "      <td>2019-10-01 00:10:08 UTC</td>\n",
              "      <td>apple</td>\n",
              "      <td>524325294</td>\n",
              "    </tr>\n",
              "    <tr>\n",
              "      <th>9</th>\n",
              "      <td>2019-10-01 00:10:56 UTC</td>\n",
              "      <td>oasis</td>\n",
              "      <td>548691404</td>\n",
              "    </tr>\n",
              "  </tbody>\n",
              "</table>\n",
              "</div>\n",
              "    <div class=\"colab-df-buttons\">\n",
              "\n",
              "  <div class=\"colab-df-container\">\n",
              "    <button class=\"colab-df-convert\" onclick=\"convertToInteractive('df-d6fb13a6-a804-438a-82f5-25a466d2f055')\"\n",
              "            title=\"Convert this dataframe to an interactive table.\"\n",
              "            style=\"display:none;\">\n",
              "\n",
              "  <svg xmlns=\"http://www.w3.org/2000/svg\" height=\"24px\" viewBox=\"0 -960 960 960\">\n",
              "    <path d=\"M120-120v-720h720v720H120Zm60-500h600v-160H180v160Zm220 220h160v-160H400v160Zm0 220h160v-160H400v160ZM180-400h160v-160H180v160Zm440 0h160v-160H620v160ZM180-180h160v-160H180v160Zm440 0h160v-160H620v160Z\"/>\n",
              "  </svg>\n",
              "    </button>\n",
              "\n",
              "  <style>\n",
              "    .colab-df-container {\n",
              "      display:flex;\n",
              "      gap: 12px;\n",
              "    }\n",
              "\n",
              "    .colab-df-convert {\n",
              "      background-color: #E8F0FE;\n",
              "      border: none;\n",
              "      border-radius: 50%;\n",
              "      cursor: pointer;\n",
              "      display: none;\n",
              "      fill: #1967D2;\n",
              "      height: 32px;\n",
              "      padding: 0 0 0 0;\n",
              "      width: 32px;\n",
              "    }\n",
              "\n",
              "    .colab-df-convert:hover {\n",
              "      background-color: #E2EBFA;\n",
              "      box-shadow: 0px 1px 2px rgba(60, 64, 67, 0.3), 0px 1px 3px 1px rgba(60, 64, 67, 0.15);\n",
              "      fill: #174EA6;\n",
              "    }\n",
              "\n",
              "    .colab-df-buttons div {\n",
              "      margin-bottom: 4px;\n",
              "    }\n",
              "\n",
              "    [theme=dark] .colab-df-convert {\n",
              "      background-color: #3B4455;\n",
              "      fill: #D2E3FC;\n",
              "    }\n",
              "\n",
              "    [theme=dark] .colab-df-convert:hover {\n",
              "      background-color: #434B5C;\n",
              "      box-shadow: 0px 1px 3px 1px rgba(0, 0, 0, 0.15);\n",
              "      filter: drop-shadow(0px 1px 2px rgba(0, 0, 0, 0.3));\n",
              "      fill: #FFFFFF;\n",
              "    }\n",
              "  </style>\n",
              "\n",
              "    <script>\n",
              "      const buttonEl =\n",
              "        document.querySelector('#df-d6fb13a6-a804-438a-82f5-25a466d2f055 button.colab-df-convert');\n",
              "      buttonEl.style.display =\n",
              "        google.colab.kernel.accessAllowed ? 'block' : 'none';\n",
              "\n",
              "      async function convertToInteractive(key) {\n",
              "        const element = document.querySelector('#df-d6fb13a6-a804-438a-82f5-25a466d2f055');\n",
              "        const dataTable =\n",
              "          await google.colab.kernel.invokeFunction('convertToInteractive',\n",
              "                                                    [key], {});\n",
              "        if (!dataTable) return;\n",
              "\n",
              "        const docLinkHtml = 'Like what you see? Visit the ' +\n",
              "          '<a target=\"_blank\" href=https://colab.research.google.com/notebooks/data_table.ipynb>data table notebook</a>'\n",
              "          + ' to learn more about interactive tables.';\n",
              "        element.innerHTML = '';\n",
              "        dataTable['output_type'] = 'display_data';\n",
              "        await google.colab.output.renderOutput(dataTable, element);\n",
              "        const docLink = document.createElement('div');\n",
              "        docLink.innerHTML = docLinkHtml;\n",
              "        element.appendChild(docLink);\n",
              "      }\n",
              "    </script>\n",
              "  </div>\n",
              "\n",
              "\n",
              "<div id=\"df-0a5df477-c6ea-4704-993e-13feaf957a54\">\n",
              "  <button class=\"colab-df-quickchart\" onclick=\"quickchart('df-0a5df477-c6ea-4704-993e-13feaf957a54')\"\n",
              "            title=\"Suggest charts\"\n",
              "            style=\"display:none;\">\n",
              "\n",
              "<svg xmlns=\"http://www.w3.org/2000/svg\" height=\"24px\"viewBox=\"0 0 24 24\"\n",
              "     width=\"24px\">\n",
              "    <g>\n",
              "        <path d=\"M19 3H5c-1.1 0-2 .9-2 2v14c0 1.1.9 2 2 2h14c1.1 0 2-.9 2-2V5c0-1.1-.9-2-2-2zM9 17H7v-7h2v7zm4 0h-2V7h2v10zm4 0h-2v-4h2v4z\"/>\n",
              "    </g>\n",
              "</svg>\n",
              "  </button>\n",
              "\n",
              "<style>\n",
              "  .colab-df-quickchart {\n",
              "      --bg-color: #E8F0FE;\n",
              "      --fill-color: #1967D2;\n",
              "      --hover-bg-color: #E2EBFA;\n",
              "      --hover-fill-color: #174EA6;\n",
              "      --disabled-fill-color: #AAA;\n",
              "      --disabled-bg-color: #DDD;\n",
              "  }\n",
              "\n",
              "  [theme=dark] .colab-df-quickchart {\n",
              "      --bg-color: #3B4455;\n",
              "      --fill-color: #D2E3FC;\n",
              "      --hover-bg-color: #434B5C;\n",
              "      --hover-fill-color: #FFFFFF;\n",
              "      --disabled-bg-color: #3B4455;\n",
              "      --disabled-fill-color: #666;\n",
              "  }\n",
              "\n",
              "  .colab-df-quickchart {\n",
              "    background-color: var(--bg-color);\n",
              "    border: none;\n",
              "    border-radius: 50%;\n",
              "    cursor: pointer;\n",
              "    display: none;\n",
              "    fill: var(--fill-color);\n",
              "    height: 32px;\n",
              "    padding: 0;\n",
              "    width: 32px;\n",
              "  }\n",
              "\n",
              "  .colab-df-quickchart:hover {\n",
              "    background-color: var(--hover-bg-color);\n",
              "    box-shadow: 0 1px 2px rgba(60, 64, 67, 0.3), 0 1px 3px 1px rgba(60, 64, 67, 0.15);\n",
              "    fill: var(--button-hover-fill-color);\n",
              "  }\n",
              "\n",
              "  .colab-df-quickchart-complete:disabled,\n",
              "  .colab-df-quickchart-complete:disabled:hover {\n",
              "    background-color: var(--disabled-bg-color);\n",
              "    fill: var(--disabled-fill-color);\n",
              "    box-shadow: none;\n",
              "  }\n",
              "\n",
              "  .colab-df-spinner {\n",
              "    border: 2px solid var(--fill-color);\n",
              "    border-color: transparent;\n",
              "    border-bottom-color: var(--fill-color);\n",
              "    animation:\n",
              "      spin 1s steps(1) infinite;\n",
              "  }\n",
              "\n",
              "  @keyframes spin {\n",
              "    0% {\n",
              "      border-color: transparent;\n",
              "      border-bottom-color: var(--fill-color);\n",
              "      border-left-color: var(--fill-color);\n",
              "    }\n",
              "    20% {\n",
              "      border-color: transparent;\n",
              "      border-left-color: var(--fill-color);\n",
              "      border-top-color: var(--fill-color);\n",
              "    }\n",
              "    30% {\n",
              "      border-color: transparent;\n",
              "      border-left-color: var(--fill-color);\n",
              "      border-top-color: var(--fill-color);\n",
              "      border-right-color: var(--fill-color);\n",
              "    }\n",
              "    40% {\n",
              "      border-color: transparent;\n",
              "      border-right-color: var(--fill-color);\n",
              "      border-top-color: var(--fill-color);\n",
              "    }\n",
              "    60% {\n",
              "      border-color: transparent;\n",
              "      border-right-color: var(--fill-color);\n",
              "    }\n",
              "    80% {\n",
              "      border-color: transparent;\n",
              "      border-right-color: var(--fill-color);\n",
              "      border-bottom-color: var(--fill-color);\n",
              "    }\n",
              "    90% {\n",
              "      border-color: transparent;\n",
              "      border-bottom-color: var(--fill-color);\n",
              "    }\n",
              "  }\n",
              "</style>\n",
              "\n",
              "  <script>\n",
              "    async function quickchart(key) {\n",
              "      const quickchartButtonEl =\n",
              "        document.querySelector('#' + key + ' button');\n",
              "      quickchartButtonEl.disabled = true;  // To prevent multiple clicks.\n",
              "      quickchartButtonEl.classList.add('colab-df-spinner');\n",
              "      try {\n",
              "        const charts = await google.colab.kernel.invokeFunction(\n",
              "            'suggestCharts', [key], {});\n",
              "      } catch (error) {\n",
              "        console.error('Error during call to suggestCharts:', error);\n",
              "      }\n",
              "      quickchartButtonEl.classList.remove('colab-df-spinner');\n",
              "      quickchartButtonEl.classList.add('colab-df-quickchart-complete');\n",
              "    }\n",
              "    (() => {\n",
              "      let quickchartButtonEl =\n",
              "        document.querySelector('#df-0a5df477-c6ea-4704-993e-13feaf957a54 button');\n",
              "      quickchartButtonEl.style.display =\n",
              "        google.colab.kernel.accessAllowed ? 'block' : 'none';\n",
              "    })();\n",
              "  </script>\n",
              "</div>\n",
              "    </div>\n",
              "  </div>\n"
            ],
            "application/vnd.google.colaboratory.intrinsic+json": {
              "type": "dataframe",
              "variable_name": "train_df"
            }
          },
          "metadata": {},
          "execution_count": 21
        }
      ],
      "source": [
        "train_df = pd.read_csv(TRAIN_PD_PATH)\n",
        "train_df.head(10)"
      ]
    },
    {
      "cell_type": "markdown",
      "metadata": {
        "id": "43OEm4Fp5C-o"
      },
      "source": [
        "We group train Dataframe by user and aggregate obtained groups by applying list construtor. This constructs Series that contains list of interactions of every user."
      ]
    },
    {
      "cell_type": "code",
      "execution_count": 22,
      "metadata": {
        "id": "5O-qxj675C-o",
        "outputId": "db54e744-f8a6-4258-924f-3b6e37fc617d",
        "colab": {
          "base_uri": "https://localhost:8080/"
        }
      },
      "outputs": [
        {
          "output_type": "execute_result",
          "data": {
            "text/plain": [
              "user_id\n",
              "264649825        [kiturami, kiturami]\n",
              "284344819                     [apple]\n",
              "293957954                    [xiaomi]\n",
              "303160429                    [garmin]\n",
              "304325717    [huawei, huawei, huawei]\n",
              "318611205              [huawei, zeta]\n",
              "336595257          [samsung, samsung]\n",
              "340041246        [lg, lg, lg, lg, lg]\n",
              "348815209                   [samsung]\n",
              "362327778                     [apple]\n",
              "Name: brand, dtype: object"
            ]
          },
          "metadata": {},
          "execution_count": 22
        }
      ],
      "source": [
        "brands = train_df.groupby(\"user_id\", group_keys=True)[\"brand\"].apply(list)\n",
        "brands.head(10)"
      ]
    },
    {
      "cell_type": "markdown",
      "metadata": {
        "id": "rX8HEm3Z5C-o"
      },
      "source": [
        "Now we are ready to implement our custom dataset class."
      ]
    },
    {
      "cell_type": "code",
      "execution_count": 23,
      "metadata": {
        "id": "YDKcs-385C-p"
      },
      "outputs": [],
      "source": [
        "class UsersBrandsDataset(Dataset):\n",
        "    def __init__(\n",
        "        self,\n",
        "        absolute_codes: np.ndarray,\n",
        "        brands_ids: np.ndarray,\n",
        "        train_df_path: str,\n",
        "        targets_path: str,\n",
        "        user_ids_path: str,\n",
        "        sketch_width: int,\n",
        "        sketch_depth: int,\n",
        "        sketch_decay: float = 0.94,\n",
        "    ):\n",
        "        \"\"\"\n",
        "        Args:\n",
        "            absolute_codes (np.ndarray): Array of shape (num_brands, sketch_depth) containing the absolute codes for each item\n",
        "            brands_ids (np.ndarray): Array of shape (num_brands) mapping each idx to corresponding brand\n",
        "            inputs_df_path (str): path to train dataframe\n",
        "            targets_path (str): path to targets array\n",
        "            sketch_width (int): width of the sketch\n",
        "            sketch_depth (int): depth of the sketch\n",
        "            sketch_decay (float): Decay factor for the sketch\n",
        "        \"\"\"\n",
        "        self.absolute_codes = absolute_codes\n",
        "        self.sketch_depth = sketch_depth\n",
        "        self.sketch_width = sketch_width\n",
        "        self.sketch_decay = sketch_decay\n",
        "\n",
        "        self.brand_to_ids = {brands_ids[idx]: idx for idx in range(len(brands_ids))}\n",
        "\n",
        "        train_df = pd.read_csv(train_df_path)\n",
        "\n",
        "        self.brands = train_df.groupby(\"user_id\")[\"brand\"].apply(list)\n",
        "        self.users_ids = np.load(user_ids_path)\n",
        "        self.target_brands = np.load(targets_path)\n",
        "\n",
        "    def __len__(self):\n",
        "        return len(self.users_ids)\n",
        "\n",
        "    def __getitem__(self, idx: int):\n",
        "        user_brands = self.brands.iloc[idx]\n",
        "        user_brands = [self.brand_to_ids[brand] for brand in user_brands]\n",
        "        user_brands_codes = torch.from_numpy(self.absolute_codes[user_brands])\n",
        "        # Assume that user interacted with 5 brands. Then user_brands_codes is a list of 5 emde_codes\n",
        "        # and emde_code is itself a list of sketch_depth integers.\n",
        "        user_sketch = torch.zeros(self.sketch_depth * self.sketch_width, dtype=torch.float32)\n",
        "        for brand_codes in user_brands_codes:\n",
        "            user_sketch *= self.sketch_decay\n",
        "            user_sketch[brand_codes] += 1\n",
        "\n",
        "        target = self.target_brands[idx]\n",
        "        return user_sketch, target"
      ]
    },
    {
      "cell_type": "markdown",
      "metadata": {
        "id": "84iKFfMB5C-p"
      },
      "source": [
        "Since we are using PyTorch Lightning, we need to wrap our dataset in LightningDataModule."
      ]
    },
    {
      "cell_type": "code",
      "execution_count": 24,
      "metadata": {
        "id": "hBUfriLf5C-q"
      },
      "outputs": [],
      "source": [
        "class UserBrandDataModule(pl.LightningDataModule):\n",
        "    def __init__(\n",
        "        self,\n",
        "        brands_ids: np.array,\n",
        "        embeddings: np.array,\n",
        "        train_df_path: str,\n",
        "        targets_path: str,\n",
        "        validation_targets_path: str,\n",
        "        user_ids_path: str,\n",
        "        sketch_width: int,\n",
        "        sketch_depth: int,\n",
        "        batch_size: int,\n",
        "        num_workers: int,\n",
        "    ) -> None:\n",
        "        super().__init__()\n",
        "        self.brands_ids = brands_ids\n",
        "        self.embeddings = embeddings\n",
        "        self.train_df_path = train_df_path\n",
        "        self.targets_path = targets_path\n",
        "        self.validation_targets_path = validation_targets_path\n",
        "        self.user_ids_path = user_ids_path\n",
        "        self.sketch_depth = sketch_depth\n",
        "        self.sketch_width = sketch_width\n",
        "        self.batch_size = batch_size\n",
        "        self.num_workers = num_workers\n",
        "\n",
        "    def setup(self, stage) -> None:\n",
        "        if stage == \"fit\":\n",
        "            absolute_emde_codes = calculate_absolute_emde_codes(self.sketch_depth, self.sketch_width, self.embeddings)\n",
        "            self.train_data = UsersBrandsDataset(\n",
        "                absolute_codes=absolute_emde_codes,\n",
        "                brands_ids=self.brands_ids,\n",
        "                train_df_path=self.train_df_path,\n",
        "                targets_path=self.targets_path,\n",
        "                user_ids_path=self.user_ids_path,\n",
        "                sketch_depth=self.sketch_depth,\n",
        "                sketch_width=self.sketch_width,\n",
        "            )\n",
        "            self.validation_data = UsersBrandsDataset(\n",
        "                absolute_codes=absolute_emde_codes,\n",
        "                brands_ids=self.brands_ids,\n",
        "                train_df_path=self.train_df_path,\n",
        "                targets_path=self.validation_targets_path,\n",
        "                user_ids_path=self.user_ids_path,\n",
        "                sketch_depth=self.sketch_depth,\n",
        "                sketch_width=self.sketch_width,\n",
        "            )\n",
        "\n",
        "    def train_dataloader(self) -> DataLoader:\n",
        "        return DataLoader(self.train_data, batch_size=self.batch_size, num_workers=self.num_workers)\n",
        "\n",
        "    def val_dataloader(self) -> DataLoader:\n",
        "        return DataLoader(\n",
        "            self.validation_data,\n",
        "            batch_size=self.batch_size,\n",
        "            num_workers=self.num_workers,\n",
        "        )"
      ]
    },
    {
      "cell_type": "markdown",
      "metadata": {
        "id": "bqRxnsy45C-q"
      },
      "source": [
        "# Defining simple feedforward Neural Network\n",
        "\n",
        "Below we implement simple feedforward neural network with binary cross entropy loss and multilabel auroc as validation score."
      ]
    },
    {
      "cell_type": "code",
      "execution_count": 25,
      "metadata": {
        "id": "khrSbACW5C-r"
      },
      "outputs": [],
      "source": [
        "class Net(torch.nn.Module):\n",
        "    def __init__(\n",
        "        self,\n",
        "        input_dim: int,\n",
        "        hidden_size: int,\n",
        "        output_dim: int,\n",
        "    ) -> None:\n",
        "        super().__init__()\n",
        "        self.linear_relu_stack = nn.Sequential(\n",
        "            nn.Linear(input_dim, hidden_size),\n",
        "            nn.ReLU(),\n",
        "            nn.BatchNorm1d(hidden_size),\n",
        "            nn.Linear(hidden_size, hidden_size),\n",
        "            nn.ReLU(),\n",
        "            nn.BatchNorm1d(hidden_size),\n",
        "            nn.Linear(hidden_size, hidden_size),\n",
        "            nn.ReLU(),\n",
        "            nn.BatchNorm1d(hidden_size),\n",
        "            nn.Linear(hidden_size, hidden_size),\n",
        "            nn.ReLU(),\n",
        "            nn.BatchNorm1d(hidden_size),\n",
        "            nn.Linear(hidden_size, output_dim),\n",
        "        )\n",
        "\n",
        "    def forward(self, x) -> torch.Tensor:\n",
        "        return self.linear_relu_stack(x)\n",
        "\n",
        ""
      ]
    },
    {
      "cell_type": "code",
      "execution_count": 26,
      "metadata": {
        "id": "n27N-0bU5C-r"
      },
      "outputs": [],
      "source": [
        "class Model(pl.LightningModule):\n",
        "    def __init__(\n",
        "        self,\n",
        "        input_dim: int,\n",
        "        hidden_size: int,\n",
        "        output_dim: int,\n",
        "        learning_rate: float,\n",
        "    ) -> None:\n",
        "        super().__init__()\n",
        "        self.learning_rate = learning_rate\n",
        "        self.net = Net(hidden_size=hidden_size, input_dim=input_dim, output_dim=output_dim)\n",
        "        self.val_auroc = AUROC(task=\"multilabel\", num_labels=output_dim)\n",
        "\n",
        "    def forward(self, x) -> Tensor:\n",
        "        return self.net(x)\n",
        "\n",
        "    def configure_optimizers(self) -> optim.Optimizer:\n",
        "        optimizer = optim.AdamW(self.parameters(), lr=self.learning_rate)\n",
        "        return optimizer\n",
        "\n",
        "    def training_step(self, train_batch, batch_idx) -> Tensor:\n",
        "        x, y = train_batch\n",
        "        preds = self.forward(x)\n",
        "        loss = F.binary_cross_entropy_with_logits(preds, y)\n",
        "        self.log(\"train_loss\", loss, on_step=True, on_epoch=True, prog_bar=True, logger=True)\n",
        "        return loss\n",
        "\n",
        "    def validation_step(self, val_batch, batch_idx) -> None:\n",
        "        x, y = val_batch\n",
        "        preds = self.forward(x)\n",
        "        loss = F.binary_cross_entropy_with_logits(preds, y)\n",
        "        self.val_auroc(preds, y.long())\n",
        "        self.log(\"val_loss\", loss, prog_bar=True, on_epoch=True, logger=True)\n",
        "\n",
        "    def on_validation_epoch_end(self) -> None:\n",
        "        self.log(\"val_auroc\", self.val_auroc, prog_bar=True, on_epoch=True, logger=True)"
      ]
    },
    {
      "cell_type": "markdown",
      "metadata": {
        "id": "0gijteSX5C-s"
      },
      "source": [
        "# Training and results\n",
        "\n",
        "Now we combine all these elements together into a piece of code which trains our model."
      ]
    },
    {
      "cell_type": "markdown",
      "metadata": {
        "id": "_q66ZgcR5C-t"
      },
      "source": [
        "First we need calculate number of target brands, since this is the ouput size of our model."
      ]
    },
    {
      "cell_type": "code",
      "execution_count": 27,
      "metadata": {
        "id": "h5NKOOWj5C-t"
      },
      "outputs": [],
      "source": [
        "num_target_brands = np.load(TARGETS_PATH).shape[1]"
      ]
    },
    {
      "cell_type": "markdown",
      "metadata": {
        "id": "b9oKdiZI5C-u"
      },
      "source": [
        "Next we load embeddings and brands_ids."
      ]
    },
    {
      "cell_type": "code",
      "execution_count": 28,
      "metadata": {
        "id": "Bhm23FH45C-v"
      },
      "outputs": [],
      "source": [
        "brands_ids, embeddings = load_embeddings(embeddings_path=EMBEDDINGS_NPZ)"
      ]
    },
    {
      "cell_type": "markdown",
      "metadata": {
        "id": "2hN6pI8l5C-v"
      },
      "source": [
        "Now we are able to construct data module and model."
      ]
    },
    {
      "cell_type": "code",
      "execution_count": 29,
      "metadata": {
        "id": "rEDhz4UX5C-w"
      },
      "outputs": [],
      "source": [
        "data = UserBrandDataModule(\n",
        "    brands_ids=brands_ids,\n",
        "    embeddings=embeddings,\n",
        "    train_df_path=TRAIN_PD_PATH,\n",
        "    targets_path=TARGETS_PATH,\n",
        "    validation_targets_path=VALIDATION_TARGETS_PATH,\n",
        "    user_ids_path=USER_IDS,\n",
        "    sketch_width=SKETCH_WIDTH,\n",
        "    sketch_depth=SKETCH_DEPTH,\n",
        "    batch_size=BATCH_SIZE,\n",
        "    num_workers=NUM_WORKERS,\n",
        ")\n",
        "\n",
        "model = Model(\n",
        "    input_dim=SKETCH_DEPTH * SKETCH_WIDTH, hidden_size=2048, output_dim=num_target_brands, learning_rate=LEARNING_RATE\n",
        ")"
      ]
    },
    {
      "cell_type": "markdown",
      "metadata": {
        "id": "mSBdTHYm5C-x"
      },
      "source": [
        "We also want to print some useful messages concerning training progress, current loss and validation scores. In order to to do this we add some basic logger."
      ]
    },
    {
      "cell_type": "code",
      "execution_count": 30,
      "metadata": {
        "id": "kdCAd22w5C-y"
      },
      "outputs": [],
      "source": [
        "logger = TensorBoardLogger(save_dir=\"logs\", name=f\"{EXPERIMENT_NAME}\")"
      ]
    },
    {
      "cell_type": "markdown",
      "metadata": {
        "id": "OuRH5mDn5C-y"
      },
      "source": [
        "Finally we employ PyTorch Lightning Trainer class to wrap all configurations concerning training and validation together."
      ]
    },
    {
      "cell_type": "code",
      "execution_count": 1,
      "metadata": {
        "id": "7vJUI6mE5C-y",
        "outputId": "eefd592c-de6d-4fd1-a08b-6353bc49a1a6",
        "colab": {
          "base_uri": "https://localhost:8080/",
          "height": 207
        }
      },
      "outputs": [
        {
          "output_type": "error",
          "ename": "NameError",
          "evalue": "name 'pl' is not defined",
          "traceback": [
            "\u001b[0;31m---------------------------------------------------------------------------\u001b[0m",
            "\u001b[0;31mNameError\u001b[0m                                 Traceback (most recent call last)",
            "\u001b[0;32m<ipython-input-1-6cfb02cd0fcf>\u001b[0m in \u001b[0;36m<cell line: 1>\u001b[0;34m()\u001b[0m\n\u001b[0;32m----> 1\u001b[0;31m trainer = pl.Trainer(\n\u001b[0m\u001b[1;32m      2\u001b[0m     \u001b[0maccelerator\u001b[0m\u001b[0;34m=\u001b[0m\u001b[0mACCELERATOR\u001b[0m\u001b[0;34m,\u001b[0m\u001b[0;34m\u001b[0m\u001b[0;34m\u001b[0m\u001b[0m\n\u001b[1;32m      3\u001b[0m     \u001b[0mdevices\u001b[0m\u001b[0;34m=\u001b[0m\u001b[0mDEVICES\u001b[0m\u001b[0;34m,\u001b[0m\u001b[0;34m\u001b[0m\u001b[0;34m\u001b[0m\u001b[0m\n\u001b[1;32m      4\u001b[0m     \u001b[0mmax_epochs\u001b[0m\u001b[0;34m=\u001b[0m\u001b[0mMAX_EPOCH\u001b[0m\u001b[0;34m,\u001b[0m\u001b[0;34m\u001b[0m\u001b[0;34m\u001b[0m\u001b[0m\n\u001b[1;32m      5\u001b[0m     \u001b[0mlogger\u001b[0m\u001b[0;34m=\u001b[0m\u001b[0mlogger\u001b[0m\u001b[0;34m,\u001b[0m\u001b[0;34m\u001b[0m\u001b[0;34m\u001b[0m\u001b[0m\n",
            "\u001b[0;31mNameError\u001b[0m: name 'pl' is not defined"
          ]
        }
      ],
      "source": [
        "trainer = pl.Trainer(\n",
        "    accelerator=ACCELERATOR,\n",
        "    devices=DEVICES,\n",
        "    max_epochs=MAX_EPOCH,\n",
        "    logger=logger,\n",
        ")"
      ]
    },
    {
      "cell_type": "markdown",
      "metadata": {
        "id": "jRaOh6gy5C-z"
      },
      "source": [
        "Now by call to fit method on trainer with model and data as arguments in order to train and validate our pipeline."
      ]
    },
    {
      "cell_type": "code",
      "execution_count": 32,
      "metadata": {
        "id": "wGi2tilu5C-z",
        "outputId": "ca4aa003-6731-4ddb-b358-e5799fee47f0",
        "colab": {
          "base_uri": "https://localhost:8080/",
          "height": 139
        }
      },
      "outputs": [
        {
          "output_type": "error",
          "ename": "NameError",
          "evalue": "name 'trainer' is not defined",
          "traceback": [
            "\u001b[0;31m---------------------------------------------------------------------------\u001b[0m",
            "\u001b[0;31mNameError\u001b[0m                                 Traceback (most recent call last)",
            "\u001b[0;32m<ipython-input-32-099f36836577>\u001b[0m in \u001b[0;36m<cell line: 1>\u001b[0;34m()\u001b[0m\n\u001b[0;32m----> 1\u001b[0;31m \u001b[0mtrainer\u001b[0m\u001b[0;34m.\u001b[0m\u001b[0mfit\u001b[0m\u001b[0;34m(\u001b[0m\u001b[0mmodel\u001b[0m\u001b[0;34m,\u001b[0m \u001b[0mdata\u001b[0m\u001b[0;34m)\u001b[0m\u001b[0;34m\u001b[0m\u001b[0;34m\u001b[0m\u001b[0m\n\u001b[0m",
            "\u001b[0;31mNameError\u001b[0m: name 'trainer' is not defined"
          ]
        }
      ],
      "source": [
        "trainer.fit(model, data)"
      ]
    },
    {
      "cell_type": "markdown",
      "metadata": {
        "id": "X7qRpQu05C-z"
      },
      "source": [
        "# Exercise 2\n",
        "Consider the following code, which adds additional linear layer on top of previously defined model.\n",
        "\n",
        "    class DeepNet(torch.nn.Module):\n",
        "        def __init__(\n",
        "            self,\n",
        "            input_dim: int,\n",
        "            hidden_size: int,\n",
        "            output_dim: int,\n",
        "        ) -> None:\n",
        "            super().__init__()\n",
        "            self.linear_relu_stack = nn.Sequential(\n",
        "                nn.Linear(input_dim, hidden_size),\n",
        "                nn.ReLU(),\n",
        "                nn.BatchNorm1d(hidden_size),\n",
        "                nn.Linear(hidden_size, hidden_size),\n",
        "                nn.ReLU(),\n",
        "                nn.BatchNorm1d(hidden_size),\n",
        "                nn.Linear(hidden_size, hidden_size),\n",
        "                nn.ReLU(),\n",
        "                nn.BatchNorm1d(hidden_size),\n",
        "                nn.Linear(hidden_size, hidden_size),\n",
        "                nn.ReLU(),\n",
        "                nn.BatchNorm1d(hidden_size),\n",
        "                nn.Linear(hidden_size, hidden_size),\n",
        "                nn.ReLU(),\n",
        "                nn.BatchNorm1d(hidden_size),\n",
        "            )\n",
        "\n",
        "        def forward(self, x) -> torch.Tensor:\n",
        "            return self.linear_relu_stack(x)\n",
        "\n",
        "Replace Net with DeepNet in appropriate cell above and try to run the the training.\n",
        "\n",
        "**Q1:** Do you know what went wrong?\n",
        "\n",
        "**Q2:** Can you fix it?"
      ]
    },
    {
      "cell_type": "code",
      "execution_count": null,
      "metadata": {
        "id": "Y77d99Fz5C-z"
      },
      "outputs": [],
      "source": [
        "# @title Solution\n",
        "\n",
        "# output of the sequential network has incorrect dimension!!!\n",
        "\n",
        "\n",
        "class DeepNet(torch.nn.Module):\n",
        "    def __init__(\n",
        "        self,\n",
        "        input_dim: int,\n",
        "        hidden_size: int,\n",
        "        output_dim: int,\n",
        "    ) -> None:\n",
        "        super().__init__()\n",
        "        self.linear_relu_stack = nn.Sequential(\n",
        "            nn.Linear(input_dim, hidden_size),\n",
        "            nn.ReLU(),\n",
        "            nn.BatchNorm1d(hidden_size),\n",
        "            nn.Linear(hidden_size, hidden_size),\n",
        "            nn.ReLU(),\n",
        "            nn.BatchNorm1d(hidden_size),\n",
        "            nn.Linear(hidden_size, hidden_size),\n",
        "            nn.ReLU(),\n",
        "            nn.BatchNorm1d(hidden_size),\n",
        "            nn.Linear(hidden_size, hidden_size),\n",
        "            nn.ReLU(),\n",
        "            nn.BatchNorm1d(hidden_size),\n",
        "            nn.Linear(hidden_size, hidden_size),\n",
        "            nn.ReLU(),\n",
        "            nn.BatchNorm1d(hidden_size),\n",
        "            nn.Linear(hidden_size, output_dim),\n",
        "        )\n",
        "\n",
        "    def forward(self, x) -> torch.Tensor:\n",
        "        return self.linear_relu_stack(x)"
      ]
    },
    {
      "cell_type": "code",
      "execution_count": null,
      "metadata": {
        "id": "ZFl5EXV55C-0"
      },
      "outputs": [],
      "source": []
    }
  ],
  "metadata": {
    "kernelspec": {
      "display_name": "Python 3",
      "name": "python3"
    },
    "language_info": {
      "codemirror_mode": {
        "name": "ipython",
        "version": 3
      },
      "file_extension": ".py",
      "mimetype": "text/x-python",
      "name": "python",
      "nbconvert_exporter": "python",
      "pygments_lexer": "ipython3",
      "version": "3.11.7"
    },
    "colab": {
      "provenance": [],
      "gpuType": "T4",
      "include_colab_link": true
    },
    "accelerator": "GPU"
  },
  "nbformat": 4,
  "nbformat_minor": 0
}